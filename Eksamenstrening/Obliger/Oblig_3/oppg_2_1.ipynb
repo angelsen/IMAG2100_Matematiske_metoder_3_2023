{
 "cells": [
  {
   "cell_type": "code",
   "execution_count": 13,
   "metadata": {},
   "outputs": [
    {
     "name": "stdout",
     "output_type": "stream",
     "text": [
      "5*sqrt(6)/4\n",
      "5*sqrt(6)/4\n",
      "5/2\n"
     ]
    }
   ],
   "source": [
    "%reset -f\n",
    "import sympy as sp\n",
    "\n",
    "rho, phi, theta = 5, sp.pi/3, sp.pi/4\n",
    "\n",
    "kart_a = rho*sp.sin(phi)*sp.cos(theta), rho*sp.sin(phi)*sp.sin(theta), rho*sp.cos(phi)\n",
    "\n",
    "for entry in kart_a:\n",
    "    print(entry)"
   ]
  },
  {
   "cell_type": "code",
   "execution_count": 12,
   "metadata": {},
   "outputs": [
    {
     "name": "stdout",
     "output_type": "stream",
     "text": [
      "5*sqrt(2)/2\n",
      "5*sqrt(2)/2\n",
      "5\n"
     ]
    }
   ],
   "source": [
    "%reset -f\n",
    "import sympy as sp\n",
    "\n",
    "r, theta, z = 5, sp.pi/4, 5\n",
    "\n",
    "kart_b = r*sp.cos(theta), r*sp.sin(theta), z\n",
    "\n",
    "for entry in kart_b:\n",
    "    print(entry)"
   ]
  }
 ],
 "metadata": {
  "kernelspec": {
   "display_name": "Python 3",
   "language": "python",
   "name": "python3"
  },
  "language_info": {
   "codemirror_mode": {
    "name": "ipython",
    "version": 3
   },
   "file_extension": ".py",
   "mimetype": "text/x-python",
   "name": "python",
   "nbconvert_exporter": "python",
   "pygments_lexer": "ipython3",
   "version": "3.11.6"
  }
 },
 "nbformat": 4,
 "nbformat_minor": 2
}
