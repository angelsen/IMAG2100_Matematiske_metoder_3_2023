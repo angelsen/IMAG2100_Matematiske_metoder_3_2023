{
 "cells": [
  {
   "cell_type": "code",
   "execution_count": 5,
   "metadata": {},
   "outputs": [
    {
     "data": {
      "text/latex": [
       "$\\displaystyle \\left[\\begin{matrix}- 3 \\sin{\\left(t \\right)}\\\\3 \\cos{\\left(t \\right)}\\end{matrix}\\right]$"
      ],
      "text/plain": [
       "Matrix([\n",
       "[-3*sin(t)],\n",
       "[ 3*cos(t)]])"
      ]
     },
     "execution_count": 5,
     "metadata": {},
     "output_type": "execute_result"
    }
   ],
   "source": [
    "import sympy as sp\n",
    "\n",
    "t = sp.symbols('t')\n",
    "\n",
    "r = sp.Matrix([\n",
    "    3*sp.cos(t),\n",
    "    3*sp.sin(t)\n",
    "])\n",
    "\n",
    "n = r.diff(t)\n",
    "n"
   ]
  },
  {
   "cell_type": "code",
   "execution_count": 28,
   "metadata": {},
   "outputs": [
    {
     "data": {
      "text/latex": [
       "$\\displaystyle \\left[\\begin{matrix}- \\cos{\\left(t \\right)}\\\\- \\sin{\\left(t \\right)}\\\\0\\end{matrix}\\right]$"
      ],
      "text/plain": [
       "Matrix([\n",
       "[-cos(t)],\n",
       "[-sin(t)],\n",
       "[      0]])"
      ]
     },
     "metadata": {},
     "output_type": "display_data"
    },
    {
     "name": "stderr",
     "output_type": "stream",
     "text": [
      "/tmp/ipykernel_26477/604553785.py:20: SymPyDeprecationWarning: \n",
      "\n",
      "non-Expr objects in a Matrix is deprecated. Matrix represents\n",
      "a mathematical matrix. To represent a container of non-numeric\n",
      "entities, Use a list of lists, TableForm, NumPy array, or some\n",
      "other data structure instead.\n",
      "\n",
      "See https://docs.sympy.org/latest/explanation/active-deprecations.html#deprecated-non-expr-in-matrix\n",
      "for details.\n",
      "\n",
      "This has been deprecated since SymPy version 1.9. It\n",
      "will be removed in a future version of SymPy.\n",
      "\n",
      "  F = sp.Matrix([\n"
     ]
    },
    {
     "data": {
      "text/latex": [
       "$\\displaystyle \\left[\\begin{matrix}3 \\sin{\\left(t \\right)} \\cos{\\left(t \\right)}\\\\3 \\sin^{2}{\\left(t \\right)}\\\\3 \\cos^{2}{\\left(t \\right)}\\\\3 \\sin{\\left(t \\right)} \\cos{\\left(t \\right)}\\\\0\\end{matrix}\\right]$"
      ],
      "text/plain": [
       "Matrix([\n",
       "[3*sin(t)*cos(t)],\n",
       "[    3*sin(t)**2],\n",
       "[    3*cos(t)**2],\n",
       "[3*sin(t)*cos(t)],\n",
       "[              0]])"
      ]
     },
     "metadata": {},
     "output_type": "display_data"
    }
   ],
   "source": [
    "x, y = sp.symbols('x y')\n",
    "\n",
    "S = x**2+y**2 - 3**2\n",
    "\n",
    "N = sp.Matrix([\n",
    "    S.diff(x),\n",
    "    S.diff(y),\n",
    "    0\n",
    "])\n",
    "\n",
    "N_hat = N/6\n",
    "\n",
    "N_hat_polar = N_hat.subs({\n",
    "    x: 3*sp.cos(t),\n",
    "    y: 3*sp.sin(t)\n",
    "})\n",
    "\n",
    "display(-N_hat_polar)\n",
    "\n",
    "F = sp.Matrix([\n",
    "    r*sp.sin(t),\n",
    "    r*sp.cos(t),\n",
    "    0\n",
    "])\n",
    "\n",
    "display(F)"
   ]
  }
 ],
 "metadata": {
  "kernelspec": {
   "display_name": "Python 3",
   "language": "python",
   "name": "python3"
  },
  "language_info": {
   "codemirror_mode": {
    "name": "ipython",
    "version": 3
   },
   "file_extension": ".py",
   "mimetype": "text/x-python",
   "name": "python",
   "nbconvert_exporter": "python",
   "pygments_lexer": "ipython3",
   "version": "3.11.6"
  }
 },
 "nbformat": 4,
 "nbformat_minor": 2
}
