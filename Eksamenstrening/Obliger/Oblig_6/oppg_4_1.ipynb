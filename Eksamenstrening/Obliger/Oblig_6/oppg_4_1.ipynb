{
 "cells": [
  {
   "cell_type": "code",
   "execution_count": 35,
   "metadata": {},
   "outputs": [
    {
     "data": {
      "text/latex": [
       "$\\displaystyle - 3 x - 2 y + 6$"
      ],
      "text/plain": [
       "-3*x - 2*y + 6"
      ]
     },
     "metadata": {},
     "output_type": "display_data"
    },
    {
     "name": "stdout",
     "output_type": "stream",
     "text": [
      "-3*x - 2*y + 6\n"
     ]
    }
   ],
   "source": [
    "import sympy as sp\n",
    "\n",
    "x, y, z = sp.symbols('x y z')\n",
    "\n",
    "S = 12*x + 8*y + 4*z -24\n",
    "\n",
    "z = sp.solve(S,z)[0]\n",
    "display(z)\n",
    "print(z)"
   ]
  },
  {
   "cell_type": "code",
   "execution_count": 29,
   "metadata": {},
   "outputs": [
    {
     "data": {
      "text/latex": [
       "$\\displaystyle \\left[\\begin{matrix}3\\\\2\\\\1\\end{matrix}\\right]$"
      ],
      "text/plain": [
       "Matrix([\n",
       "[3],\n",
       "[2],\n",
       "[1]])"
      ]
     },
     "metadata": {},
     "output_type": "display_data"
    },
    {
     "name": "stdout",
     "output_type": "stream",
     "text": [
      "Matrix([[3], [2], [1]])\n"
     ]
    }
   ],
   "source": [
    "T_x = sp.Matrix([\n",
    "    1, 0, z.diff(x)\n",
    "])\n",
    "\n",
    "T_y = sp.Matrix([\n",
    "    0, 1, z.diff(y)\n",
    "])\n",
    "\n",
    "dS = T_x.cross(T_y)\n",
    "display(dS)\n",
    "print(dS)"
   ]
  },
  {
   "cell_type": "code",
   "execution_count": 30,
   "metadata": {},
   "outputs": [
    {
     "name": "stdout",
     "output_type": "stream",
     "text": [
      "2\n",
      "3\n"
     ]
    }
   ],
   "source": [
    "x_kord = sp.solve(z.subs({\n",
    "    y:0\n",
    "}),x)[0]\n",
    "y_kord = sp.solve(z.subs({\n",
    "    x:0\n",
    "}),y)[0]\n",
    "\n",
    "print(x_kord)\n",
    "print(y_kord)"
   ]
  },
  {
   "cell_type": "code",
   "execution_count": 31,
   "metadata": {},
   "outputs": [
    {
     "data": {
      "text/plain": [
       "3"
      ]
     },
     "metadata": {},
     "output_type": "display_data"
    }
   ],
   "source": [
    "A = 3\n",
    "display(A)"
   ]
  },
  {
   "cell_type": "code",
   "execution_count": 39,
   "metadata": {},
   "outputs": [
    {
     "name": "stdout",
     "output_type": "stream",
     "text": [
      "[3 - 3*x/2]\n"
     ]
    },
    {
     "data": {
      "text/latex": [
       "$\\displaystyle 30$"
      ],
      "text/plain": [
       "30"
      ]
     },
     "execution_count": 39,
     "metadata": {},
     "output_type": "execute_result"
    }
   ],
   "source": [
    "F = sp.Matrix([\n",
    "    56*y-16*x,\n",
    "    24*x-84*y,\n",
    "    10\n",
    "])\n",
    "\n",
    "b_1 = sp.solve(z, y)\n",
    "print(b_1)\n",
    "\n",
    "sp.integrate(F.dot(dS),(y,0,b_1),(x,0,2))"
   ]
  }
 ],
 "metadata": {
  "kernelspec": {
   "display_name": "Python 3",
   "language": "python",
   "name": "python3"
  },
  "language_info": {
   "codemirror_mode": {
    "name": "ipython",
    "version": 3
   },
   "file_extension": ".py",
   "mimetype": "text/x-python",
   "name": "python",
   "nbconvert_exporter": "python",
   "pygments_lexer": "ipython3",
   "version": "3.11.6"
  }
 },
 "nbformat": 4,
 "nbformat_minor": 2
}
