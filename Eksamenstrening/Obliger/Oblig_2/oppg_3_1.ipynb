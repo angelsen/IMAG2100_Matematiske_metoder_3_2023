{
 "cells": [
  {
   "cell_type": "markdown",
   "metadata": {},
   "source": [
    "# OBS! Denne oppgaven er feil!"
   ]
  },
  {
   "cell_type": "markdown",
   "metadata": {},
   "source": [
    "a)\n",
    "\n",
    "Vi har en rett linje i planet beskrevet på polar form ved likningen.\n",
    "$$\n",
    "r=\\frac{1}{4 \\cos (\\theta)}\n",
    "$$\n",
    "\n",
    "Skriv likningen på standardform i kartetiske/rektangulære koordinater. Med standardform så mener vi på formen $a x+b y=1$ for tall $a, b$. Du skal kun skrive venstre side av likningen.\n",
    "\n",
    "Svar:\n",
    "$$\n",
    "1=\n",
    "$$"
   ]
  },
  {
   "cell_type": "code",
   "execution_count": 20,
   "metadata": {},
   "outputs": [
    {
     "name": "stdout",
     "output_type": "stream",
     "text": [
      "1/4*x+y/(4*x)*y\n"
     ]
    }
   ],
   "source": [
    "import sympy as sp\n",
    "\n",
    "x, y = sp.symbols('x y')\n",
    "\n",
    "theta = sp.atan2(y,x)\n",
    "\n",
    "r_a = 1/(4*sp.cos(theta))\n",
    "\n",
    "x_a = r_a*sp.cos(theta)\n",
    "\n",
    "y_a = r_a*sp.sin(theta)\n",
    "\n",
    "print(f\"{x_a}*x+{y_a}*y\")"
   ]
  },
  {
   "cell_type": "markdown",
   "metadata": {},
   "source": [
    "b)\n",
    "\n",
    "Vi har en rett linje beskrevet på polar form ved likningen.\n",
    "$$\n",
    "r=\\frac{1}{4 \\sin (\\theta)}\n",
    "$$\n",
    "\n",
    "Skriv likningen på standardform i kartetiske/rektangulære koordinater som over.\n",
    "Svar:\n",
    "$$\n",
    "1=\n",
    "$$\n"
   ]
  },
  {
   "cell_type": "code",
   "execution_count": 18,
   "metadata": {},
   "outputs": [
    {
     "name": "stdout",
     "output_type": "stream",
     "text": [
      "y/(4*x)*x+1/4*y\n"
     ]
    }
   ],
   "source": [
    "r_b = 1/(4*sp.sin(theta))\n",
    "\n",
    "x_b = r_b*sp.cos(theta)\n",
    "\n",
    "y_b = r_b*sp.sin(theta)\n",
    "\n",
    "print(f\"{x_b}*x+{y_b}*y\")"
   ]
  },
  {
   "cell_type": "markdown",
   "metadata": {},
   "source": [
    "c)\n",
    "\n",
    "Vi har en rett linje beskrevet på polar form ved likningen.\n",
    "Skriv likningen på standardform i kartetiske/rektangulære koordinater\n",
    "$$\n",
    "r=\\frac{1}{4 \\cos (\\theta)+5 \\sin (\\theta)}\n",
    "$$\n",
    "\n",
    "Svar:\n",
    "$$\n",
    "1=\n",
    "$$"
   ]
  },
  {
   "cell_type": "code",
   "execution_count": 19,
   "metadata": {},
   "outputs": [
    {
     "name": "stdout",
     "output_type": "stream",
     "text": [
      "y/(sqrt(x**2 + y**2)*(5*x/sqrt(x**2 + y**2) + 4*y/sqrt(x**2 + y**2)))*x+x/(sqrt(x**2 + y**2)*(5*x/sqrt(x**2 + y**2) + 4*y/sqrt(x**2 + y**2)))*y\n"
     ]
    }
   ],
   "source": [
    "r_c = 1/(4*sp.cos(theta) + 5*sp.sin(theta))\n",
    "\n",
    "x_c = r_c*sp.cos(theta)\n",
    "\n",
    "y_c = r_c*sp.sin(theta)\n",
    "\n",
    "print(f\"{x_c}*x+{y_c}*y\")"
   ]
  }
 ],
 "metadata": {
  "kernelspec": {
   "display_name": "Python 3",
   "language": "python",
   "name": "python3"
  },
  "language_info": {
   "codemirror_mode": {
    "name": "ipython",
    "version": 3
   },
   "file_extension": ".py",
   "mimetype": "text/x-python",
   "name": "python",
   "nbconvert_exporter": "python",
   "pygments_lexer": "ipython3",
   "version": "3.11.6"
  }
 },
 "nbformat": 4,
 "nbformat_minor": 2
}
