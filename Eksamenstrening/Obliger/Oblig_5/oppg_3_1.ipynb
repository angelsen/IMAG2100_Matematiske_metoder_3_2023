{
 "cells": [
  {
   "cell_type": "code",
   "execution_count": 11,
   "metadata": {},
   "outputs": [
    {
     "data": {
      "text/latex": [
       "$\\displaystyle 8 - \\frac{8 x}{3}$"
      ],
      "text/plain": [
       "8 - 8*x/3"
      ]
     },
     "metadata": {},
     "output_type": "display_data"
    },
    {
     "data": {
      "text/latex": [
       "$\\displaystyle 3 - \\frac{3 y}{8}$"
      ],
      "text/plain": [
       "3 - 3*y/8"
      ]
     },
     "metadata": {},
     "output_type": "display_data"
    },
    {
     "name": "stdout",
     "output_type": "stream",
     "text": [
      "3 - 3*y/8\n"
     ]
    }
   ],
   "source": [
    "%reset -f\n",
    "import sympy as sp\n",
    "\n",
    "x, y = sp.symbols('x y')\n",
    "\n",
    "dz = -8\n",
    "dx = 3\n",
    "a = sp.Rational(dz,dx)\n",
    "\n",
    "y_linje = 8 + a*x\n",
    "\n",
    "display(y_linje)\n",
    "\n",
    "b_1 = sp.solve(y_linje - y, x)[0]\n",
    "\n",
    "display(b_1)\n",
    "print(b_1)"
   ]
  },
  {
   "cell_type": "code",
   "execution_count": 20,
   "metadata": {},
   "outputs": [
    {
     "data": {
      "text/latex": [
       "$\\displaystyle 12 - \\frac{4 x}{3}$"
      ],
      "text/plain": [
       "12 - 4*x/3"
      ]
     },
     "metadata": {},
     "output_type": "display_data"
    },
    {
     "name": "stdout",
     "output_type": "stream",
     "text": [
      "12 - 4*x/3\n"
     ]
    },
    {
     "data": {
      "text/latex": [
       "$\\displaystyle 9 - \\frac{3 z}{4}$"
      ],
      "text/plain": [
       "9 - 3*z/4"
      ]
     },
     "metadata": {},
     "output_type": "display_data"
    },
    {
     "name": "stdout",
     "output_type": "stream",
     "text": [
      "9 - 3*z/4\n"
     ]
    }
   ],
   "source": [
    "%reset -f\n",
    "import sympy as sp\n",
    "\n",
    "x, y, z = sp.symbols('x y z')\n",
    "\n",
    "dz = -12\n",
    "dx = 9\n",
    "a = sp.Rational(dz,dx)\n",
    "\n",
    "z_linje = -dz + a*x\n",
    "\n",
    "display(z_linje)\n",
    "print(z_linje)\n",
    "\n",
    "b_2 = sp.solve(z_linje - z, x)[0]\n",
    "display(b_2)\n",
    "print(b_2)"
   ]
  }
 ],
 "metadata": {
  "kernelspec": {
   "display_name": "Python 3",
   "language": "python",
   "name": "python3"
  },
  "language_info": {
   "codemirror_mode": {
    "name": "ipython",
    "version": 3
   },
   "file_extension": ".py",
   "mimetype": "text/x-python",
   "name": "python",
   "nbconvert_exporter": "python",
   "pygments_lexer": "ipython3",
   "version": "3.11.6"
  }
 },
 "nbformat": 4,
 "nbformat_minor": 2
}
