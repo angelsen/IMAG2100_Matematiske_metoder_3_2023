{
 "cells": [
  {
   "cell_type": "code",
   "execution_count": 7,
   "metadata": {},
   "outputs": [
    {
     "data": {
      "text/latex": [
       "$\\displaystyle \\left[\\begin{matrix}- \\frac{2 \\sqrt{5}}{15}\\\\- \\frac{4 \\sqrt{5}}{15}\\\\- \\frac{\\sqrt{5}}{3}\\end{matrix}\\right]$"
      ],
      "text/plain": [
       "Matrix([\n",
       "[-2*sqrt(5)/15],\n",
       "[-4*sqrt(5)/15],\n",
       "[   -sqrt(5)/3]])"
      ]
     },
     "metadata": {},
     "output_type": "display_data"
    },
    {
     "name": "stdout",
     "output_type": "stream",
     "text": [
      "-2*sqrt(5)/15\n",
      "-4*sqrt(5)/15\n",
      "-sqrt(5)/3\n"
     ]
    }
   ],
   "source": [
    "import sympy as sp\n",
    "\n",
    "x,y,z = sp.symbols('x y z')\n",
    "\n",
    "T = 10*sp.exp(-x**2)*sp.exp(-y**2)*sp.exp(-z**2)\n",
    "\n",
    "dT_dx, dT_dy, dT_dz = sp.diff(T, x), sp.diff(T, y), sp.diff(T, z)\n",
    "\n",
    "nabla_T = sp.Matrix([[dT_dx], [dT_dy], [dT_dz]])\n",
    "\n",
    "x_0, y_0, z_0 = 2, 4, 5\n",
    "\n",
    "subs_nabla_T = sp.Subs(nabla_T, (x,y,z), (x_0, y_0, z_0)).doit()\n",
    "\n",
    "r_nabla_T = subs_nabla_T.normalized()\n",
    "\n",
    "display(r_nabla_T)\n",
    "for parameter in r_nabla_T:\n",
    "    print(parameter)"
   ]
  },
  {
   "cell_type": "code",
   "execution_count": 9,
   "metadata": {},
   "outputs": [
    {
     "name": "stdout",
     "output_type": "stream",
     "text": [
      "60*sqrt(5)*exp(-45)\n"
     ]
    }
   ],
   "source": [
    "stigning = subs_nabla_T.norm()\n",
    "print(stigning)"
   ]
  }
 ],
 "metadata": {
  "kernelspec": {
   "display_name": "Python 3",
   "language": "python",
   "name": "python3"
  },
  "language_info": {
   "codemirror_mode": {
    "name": "ipython",
    "version": 3
   },
   "file_extension": ".py",
   "mimetype": "text/x-python",
   "name": "python",
   "nbconvert_exporter": "python",
   "pygments_lexer": "ipython3",
   "version": "3.11.6"
  }
 },
 "nbformat": 4,
 "nbformat_minor": 2
}
