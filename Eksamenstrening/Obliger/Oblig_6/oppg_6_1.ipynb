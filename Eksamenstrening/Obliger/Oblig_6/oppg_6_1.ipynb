{
 "cells": [
  {
   "cell_type": "code",
   "execution_count": 31,
   "metadata": {},
   "outputs": [
    {
     "data": {
      "text/latex": [
       "$\\displaystyle \\left[\\begin{matrix}- 3 \\sin{\\left(t \\right)}\\\\3 \\cos{\\left(t \\right)}\\end{matrix}\\right]$"
      ],
      "text/plain": [
       "Matrix([\n",
       "[-3*sin(t)],\n",
       "[ 3*cos(t)]])"
      ]
     },
     "execution_count": 31,
     "metadata": {},
     "output_type": "execute_result"
    }
   ],
   "source": [
    "import sympy as sp\n",
    "\n",
    "t = sp.symbols('t')\n",
    "\n",
    "r = sp.Matrix([\n",
    "    3*sp.cos(t),\n",
    "    3*sp.sin(t)\n",
    "])\n",
    "\n",
    "n = r.diff(t)\n",
    "n"
   ]
  },
  {
   "cell_type": "code",
   "execution_count": 42,
   "metadata": {},
   "outputs": [
    {
     "data": {
      "text/latex": [
       "$\\displaystyle \\left[\\begin{matrix}- \\cos{\\left(t \\right)}\\\\- \\sin{\\left(t \\right)}\\\\0\\end{matrix}\\right]$"
      ],
      "text/plain": [
       "Matrix([\n",
       "[-cos(t)],\n",
       "[-sin(t)],\n",
       "[      0]])"
      ]
     },
     "metadata": {},
     "output_type": "display_data"
    },
    {
     "name": "stdout",
     "output_type": "stream",
     "text": [
      "0\n"
     ]
    }
   ],
   "source": [
    "x, y = sp.symbols('x y')\n",
    "\n",
    "S = x**2+y**2 - 3**2\n",
    "\n",
    "N = sp.Matrix([\n",
    "    S.diff(x),\n",
    "    S.diff(y),\n",
    "    0\n",
    "])\n",
    "\n",
    "N_hat = N/6\n",
    "\n",
    "N_hat_polar = -N_hat.subs({\n",
    "    x: 3*sp.cos(t),\n",
    "    y: 3*sp.sin(t)\n",
    "})\n",
    "\n",
    "display(N_hat_polar)\n",
    "\n",
    "F = sp.Matrix([\n",
    "    6*sp.sin(t),\n",
    "    6*sp.cos(t),\n",
    "    0])\n",
    "\n",
    "fluks = sp.integrate(F.dot(N_hat_polar)*6,(t,0,sp.pi))\n",
    "print(fluks)"
   ]
  }
 ],
 "metadata": {
  "kernelspec": {
   "display_name": "Python 3",
   "language": "python",
   "name": "python3"
  },
  "language_info": {
   "codemirror_mode": {
    "name": "ipython",
    "version": 3
   },
   "file_extension": ".py",
   "mimetype": "text/x-python",
   "name": "python",
   "nbconvert_exporter": "python",
   "pygments_lexer": "ipython3",
   "version": "3.11.6"
  }
 },
 "nbformat": 4,
 "nbformat_minor": 2
}
