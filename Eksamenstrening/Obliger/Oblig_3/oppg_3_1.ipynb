{
 "cells": [
  {
   "cell_type": "code",
   "execution_count": 3,
   "metadata": {},
   "outputs": [
    {
     "name": "stdout",
     "output_type": "stream",
     "text": [
      "(4, pi/3, pi/6)\n"
     ]
    }
   ],
   "source": [
    "%reset -f\n",
    "\n",
    "import sympy as sp\n",
    "\n",
    "x, y, z = 3, sp.sqrt(3), 2\n",
    "\n",
    "kulekord_a = sp.sqrt(x**2+y**2+z**2), sp.acos(z/sp.sqrt(x**2+y**2+z**2)), sp.atan2(y,x)\n",
    "\n",
    "print(kulekord_a)"
   ]
  },
  {
   "cell_type": "code",
   "execution_count": 6,
   "metadata": {},
   "outputs": [
    {
     "name": "stdout",
     "output_type": "stream",
     "text": [
      "4\n",
      "pi/6\n",
      "-2\n"
     ]
    }
   ],
   "source": [
    "%reset -f\n",
    "\n",
    "import sympy as sp\n",
    "\n",
    "x, y, z = 2*sp.sqrt(3), 2, -2\n",
    "\n",
    "r = sp.sqrt(x**2+y**2)\n",
    "theta = sp.atan2(y,x)\n",
    "\n",
    "print(r, theta, z, sep='\\n')"
   ]
  }
 ],
 "metadata": {
  "kernelspec": {
   "display_name": "Python 3",
   "language": "python",
   "name": "python3"
  },
  "language_info": {
   "codemirror_mode": {
    "name": "ipython",
    "version": 3
   },
   "file_extension": ".py",
   "mimetype": "text/x-python",
   "name": "python",
   "nbconvert_exporter": "python",
   "pygments_lexer": "ipython3",
   "version": "3.11.6"
  }
 },
 "nbformat": 4,
 "nbformat_minor": 2
}
