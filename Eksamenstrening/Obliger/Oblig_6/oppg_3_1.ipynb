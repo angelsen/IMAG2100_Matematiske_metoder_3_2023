{
 "cells": [
  {
   "cell_type": "code",
   "execution_count": 6,
   "metadata": {},
   "outputs": [
    {
     "data": {
      "text/latex": [
       "$\\displaystyle 896 \\pi$"
      ],
      "text/plain": [
       "896*pi"
      ]
     },
     "metadata": {},
     "output_type": "display_data"
    },
    {
     "name": "stdout",
     "output_type": "stream",
     "text": [
      "896*pi\n"
     ]
    }
   ],
   "source": [
    "import sympy as sp\n",
    "\n",
    "r = 8\n",
    "\n",
    "t = sp.symbols('t')\n",
    "\n",
    "x, y = r*sp.cos(t), r*sp.sin(t)\n",
    "\n",
    "F = sp.Matrix([\n",
    "    3*x,\n",
    "    14*x+y**2,\n",
    "    0\n",
    "])\n",
    "\n",
    "r = sp.Matrix([\n",
    "    x,\n",
    "    y,\n",
    "    0\n",
    "])\n",
    "\n",
    "dr = r.diff(t)\n",
    "\n",
    "i = F.dot(dr)\n",
    "\n",
    "arbeidsintegralet = sp.integrate(i, (t, 0, 2*sp.pi))\n",
    "display(arbeidsintegralet)\n",
    "print(arbeidsintegralet)"
   ]
  }
 ],
 "metadata": {
  "kernelspec": {
   "display_name": "Python 3",
   "language": "python",
   "name": "python3"
  },
  "language_info": {
   "codemirror_mode": {
    "name": "ipython",
    "version": 3
   },
   "file_extension": ".py",
   "mimetype": "text/x-python",
   "name": "python",
   "nbconvert_exporter": "python",
   "pygments_lexer": "ipython3",
   "version": "3.11.6"
  }
 },
 "nbformat": 4,
 "nbformat_minor": 2
}
