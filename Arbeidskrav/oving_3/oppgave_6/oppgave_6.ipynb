{
 "cells": [
  {
   "cell_type": "markdown",
   "metadata": {},
   "source": [
    "I denne oppgaven skal du øve på å bruke kjerneregelen for funksjoner med flere variable.\n",
    "\n",
    "1. En partikkel i rommet beveger seg på grafen til funksjonen\n",
    "    $$\n",
    "    z=f(x, y)=x^{2} \\cdot y^{2}-12 \\cdot x \\cdot y+36 .\n",
    "    $$\n",
    "    Ved tidspunkt $t=1$, så har partikkelen posisjon lik $(6,1, f(6,1))$. Hastigheten i $x$-retning er $\\frac{\\partial x}{\\partial t}=3$ og hastighet i $y$-retning lik $\\frac{\\partial y}{\\partial t}=-1$. Hva er hastigheten $\\frac{\\partial z}{\\partial t}$ til partikkelen $\\mathrm{i} z$-retning for dette tidspunktet? $\\frac{\\partial z}{\\partial t}=$"
   ]
  },
  {
   "cell_type": "code",
   "execution_count": 45,
   "metadata": {},
   "outputs": [],
   "source": [
    "import sympy as sp\n",
    "\n",
    "x, y, z, t = sp.symbols('x y z t')\n",
    "\n",
    "#x = 6\n",
    "#y = 1\n",
    "z = sp.Pow(x, 2) * sp.Pow(y, 2) - 12*x*y + 36"
   ]
  },
  {
   "cell_type": "code",
   "execution_count": 61,
   "metadata": {},
   "outputs": [
    {
     "data": {
      "text/latex": [
       "$\\displaystyle 0$"
      ],
      "text/plain": [
       "0"
      ]
     },
     "execution_count": 61,
     "metadata": {},
     "output_type": "execute_result"
    }
   ],
   "source": [
    "f_x = sp.Derivative(z, x, evaluate=True)\n",
    "f_y = sp.Derivative(z, y, evaluate=True)\n",
    "\n",
    "x_t = 3\n",
    "y_t = -1\n",
    "\n",
    "(f_x*x_t + f_y * y_t).subs({x: 6, y: 1})"
   ]
  },
  {
   "cell_type": "markdown",
   "metadata": {},
   "source": [
    "2. En funksjon $z=g(x, y)$ har partiellderiverte $\\frac{\\partial z}{\\partial x}=18 \\cdot x$ og $\\frac{\\partial z}{\\partial y}=1$.\n",
    "    \n",
    "    Vi skriver om funksjonen til sylinderkoordinater, dvs. $z=g(r, \\theta)$. Hva er da partiellderiverte mhp. $\\theta$ og $r$ ?\n",
    "    \n",
    "    $g_{\\theta}=\\frac{\\partial z}{\\partial \\theta}=$\n",
    "    \n",
    "    $g_{r}=\\frac{\\partial z}{\\partial r}=$"
   ]
  },
  {
   "cell_type": "code",
   "execution_count": 90,
   "metadata": {},
   "outputs": [
    {
     "name": "stdout",
     "output_type": "stream",
     "text": [
      "x_r: cos(theta)\n",
      "y_r: sin(theta)\n",
      "18*r*cos(theta)**2 + sin(theta)\n"
     ]
    }
   ],
   "source": [
    "%reset -f\n",
    "\n",
    "import sympy as sp\n",
    "\n",
    "r, theta = sp.symbols('r theta')\n",
    "\n",
    "x = r * sp.cos(theta)\n",
    "y = r * sp.sin(theta)\n",
    "\n",
    "x_r = sp.Derivative(x, r, evaluate=True)\n",
    "print(f'x_r: {x_r}')\n",
    "\n",
    "y_r = sp.Derivative(y, r, evaluate=True)\n",
    "print(f'y_r: {y_r}')\n",
    "\n",
    "z_x = 18*x\n",
    "z_y = 1\n",
    "\n",
    "print(x_r*z_x + y_r*z_y)\n"
   ]
  },
  {
   "cell_type": "code",
   "execution_count": 92,
   "metadata": {},
   "outputs": [
    {
     "name": "stdout",
     "output_type": "stream",
     "text": [
      "x_th: -r*sin(theta)\n",
      "y_th: r*cos(theta)\n",
      "-18*r**2*sin(theta)*cos(theta) + r*cos(theta)\n"
     ]
    }
   ],
   "source": [
    "%reset -f\n",
    "\n",
    "import sympy as sp\n",
    "\n",
    "r, theta = sp.symbols('r theta')\n",
    "\n",
    "x = r * sp.cos(theta)\n",
    "y = r * sp.sin(theta)\n",
    "\n",
    "x_th = sp.Derivative(x, theta, evaluate=True)\n",
    "print(f'x_th: {x_th}')\n",
    "\n",
    "y_th = sp.Derivative(y, theta, evaluate=True)\n",
    "print(f'y_th: {y_th}')\n",
    "\n",
    "z_x = 18*x\n",
    "z_y = 1\n",
    "\n",
    "print(x_th*z_x + y_th*z_y)"
   ]
  }
 ],
 "metadata": {
  "kernelspec": {
   "display_name": "Python 3",
   "language": "python",
   "name": "python3"
  },
  "language_info": {
   "codemirror_mode": {
    "name": "ipython",
    "version": 3
   },
   "file_extension": ".py",
   "mimetype": "text/x-python",
   "name": "python",
   "nbconvert_exporter": "python",
   "pygments_lexer": "ipython3",
   "version": "3.11.5"
  },
  "orig_nbformat": 4
 },
 "nbformat": 4,
 "nbformat_minor": 2
}
