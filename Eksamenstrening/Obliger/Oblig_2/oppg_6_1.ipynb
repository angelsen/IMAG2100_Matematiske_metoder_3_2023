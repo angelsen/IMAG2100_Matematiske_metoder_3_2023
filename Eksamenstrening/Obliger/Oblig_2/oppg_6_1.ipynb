{
 "cells": [
  {
   "cell_type": "markdown",
   "metadata": {},
   "source": [
    "I denne oppgaven skal du regne ut tyngepunktet til en streng som ligger i planet. Skriv alle svar som tall, uten enheter.\n",
    "\n",
    "Strengen har massetetthet $\\delta=1$ og ligger langs kurven\n",
    "$$\n",
    "x(t)=2 \\cdot \\cos (t), y(t)=2 \\cdot \\sin (t), 0<t<\\pi\n",
    "$$\n",
    "i planet.\n",
    "\n",
    "Det første du kan gjøre er å finne ut hva slags kurve dette er og tegne en skisse."
   ]
  },
  {
   "cell_type": "code",
   "execution_count": 7,
   "metadata": {},
   "outputs": [
    {
     "name": "stdout",
     "output_type": "stream",
     "text": [
      "2*pi\n"
     ]
    }
   ],
   "source": [
    "import sympy as sp\n",
    "\n",
    "t = sp.symbols('t')\n",
    "\n",
    "x = 2*sp.cos(t)\n",
    "y = 2*sp.sin(t)\n",
    "\n",
    "delta = 1\n",
    "\n",
    "integrand = delta*sp.sqrt(sp.diff(x, t)**2+sp.diff(y, t)**2)\n",
    "\n",
    "m = sp.integrate(integrand, (t, 0, sp.pi))\n",
    "print(m)"
   ]
  },
  {
   "cell_type": "code",
   "execution_count": 12,
   "metadata": {},
   "outputs": [
    {
     "name": "stdout",
     "output_type": "stream",
     "text": [
      "0\n"
     ]
    }
   ],
   "source": [
    "x_kord = 1/m*sp.integrate(x*integrand, (t, 0, sp.pi))\n",
    "print(x_kord)"
   ]
  },
  {
   "cell_type": "code",
   "execution_count": 11,
   "metadata": {},
   "outputs": [
    {
     "name": "stdout",
     "output_type": "stream",
     "text": [
      "4/pi\n"
     ]
    }
   ],
   "source": [
    "y_kord = 1/m*sp.integrate(y*integrand, (t, 0, sp.pi))\n",
    "print(y_kord)"
   ]
  }
 ],
 "metadata": {
  "kernelspec": {
   "display_name": "Python 3",
   "language": "python",
   "name": "python3"
  },
  "language_info": {
   "codemirror_mode": {
    "name": "ipython",
    "version": 3
   },
   "file_extension": ".py",
   "mimetype": "text/x-python",
   "name": "python",
   "nbconvert_exporter": "python",
   "pygments_lexer": "ipython3",
   "version": "3.11.6"
  }
 },
 "nbformat": 4,
 "nbformat_minor": 2
}
