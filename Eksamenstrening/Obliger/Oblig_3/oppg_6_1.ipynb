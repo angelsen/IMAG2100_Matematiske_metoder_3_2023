{
 "cells": [
  {
   "cell_type": "code",
   "execution_count": 14,
   "metadata": {},
   "outputs": [
    {
     "data": {
      "text/latex": [
       "$\\displaystyle 0$"
      ],
      "text/plain": [
       "0"
      ]
     },
     "metadata": {},
     "output_type": "display_data"
    }
   ],
   "source": [
    "%reset -f\n",
    "import sympy as sp\n",
    "\n",
    "x, y = sp.symbols('x y')\n",
    "\n",
    "z = x**2*y**2-18*x*y+81\n",
    "\n",
    "dx_dt = -3\n",
    "dy_dt = -3\n",
    "\n",
    "dz_dt = dx_dt*sp.diff(z, x)+ dy_dt*sp.diff(z, y)\n",
    "display(sp.Subs(dz_dt,(x, y), (3, 3)).doit())"
   ]
  },
  {
   "cell_type": "code",
   "execution_count": 18,
   "metadata": {},
   "outputs": [
    {
     "data": {
      "text/latex": [
       "$\\displaystyle - 6 r^{2} \\sin{\\left(\\theta \\right)} \\cos{\\left(\\theta \\right)} + r \\cos{\\left(\\theta \\right)}$"
      ],
      "text/plain": [
       "-6*r**2*sin(theta)*cos(theta) + r*cos(theta)"
      ]
     },
     "metadata": {},
     "output_type": "display_data"
    },
    {
     "name": "stdout",
     "output_type": "stream",
     "text": [
      "-6*r**2*sin(theta)*cos(theta) + r*cos(theta)\n"
     ]
    }
   ],
   "source": [
    "%reset -f\n",
    "import sympy as sp\n",
    "\n",
    "r, theta = sp.symbols('r theta')\n",
    "\n",
    "x = r*sp.cos(theta)\n",
    "y = r*sp.sin(theta)\n",
    "\n",
    "dz_dx, dz_dy = 6*x, 1\n",
    "\n",
    "dz_dtheta = dz_dx*sp.diff(x, theta)+dz_dy*sp.diff(y,theta)\n",
    "display(dz_dtheta)\n",
    "print(dz_dtheta)"
   ]
  },
  {
   "cell_type": "code",
   "execution_count": 19,
   "metadata": {},
   "outputs": [
    {
     "data": {
      "text/latex": [
       "$\\displaystyle 6 r \\cos^{2}{\\left(\\theta \\right)} + \\sin{\\left(\\theta \\right)}$"
      ],
      "text/plain": [
       "6*r*cos(theta)**2 + sin(theta)"
      ]
     },
     "metadata": {},
     "output_type": "display_data"
    },
    {
     "name": "stdout",
     "output_type": "stream",
     "text": [
      "6*r*cos(theta)**2 + sin(theta)\n"
     ]
    }
   ],
   "source": [
    "dz_dr = dz_dx*sp.diff(x, r)+dz_dy*sp.diff(y,r)\n",
    "display(dz_dr)\n",
    "print(dz_dr)"
   ]
  }
 ],
 "metadata": {
  "kernelspec": {
   "display_name": "Python 3",
   "language": "python",
   "name": "python3"
  },
  "language_info": {
   "codemirror_mode": {
    "name": "ipython",
    "version": 3
   },
   "file_extension": ".py",
   "mimetype": "text/x-python",
   "name": "python",
   "nbconvert_exporter": "python",
   "pygments_lexer": "ipython3",
   "version": "3.11.6"
  }
 },
 "nbformat": 4,
 "nbformat_minor": 2
}
