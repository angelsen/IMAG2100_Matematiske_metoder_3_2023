{
 "cells": [
  {
   "cell_type": "markdown",
   "id": "11072f2e",
   "metadata": {},
   "source": [
    "# Gradientmetoden - numeriske beregninger med gradienten (Lærerversjon)"
   ]
  },
  {
   "cell_type": "markdown",
   "id": "70cecc19",
   "metadata": {},
   "source": [
    "## Del 1: Introduksjon til gradient descent."
   ]
  },
  {
   "cell_type": "markdown",
   "id": "93bd2395-5b10-4def-84b2-4b69a84c5b3e",
   "metadata": {},
   "source": [
    "Du skal ikke levere noe på del 1, men jobb igjennom teksten og eksemplene, slik at du bedre forstår hvordan algoritmen fungerer og de begrensningene den har. \n",
    "\n",
    "Vi går ikke i dybden på noe av dette, men det kan være greit å være litt informert før dere bruker dette i en annen situasjon.\n",
    "\n",
    "Vi lager fullstendige pythonprogram i hver kodesnutt - det må du også gjøre! Du kan kopiere koden og jobbe i Spyder (anbefalt) for hver del. Vi kommenterer kun det som er nytt i hvert eksempel. Hvis du ikke husker hva en linje gjør i programmet, så kan du se på eksemplene lenger opp i dokumentet. \n",
    "\n",
    "I del 1 så anbefaler vi at du eksperimenterer med ulike verdier (se kommentarene) for å bli litt kjent med hva som kan skje. Prøv å forstå algoritmen så godt du klarer. \n",
    "\n",
    "Vi henviser også til forelesningen som er publisert som video på blackboard.\n",
    "\n",
    "Du trenger ikke levere noe på del 1."
   ]
  },
  {
   "cell_type": "markdown",
   "id": "091c9d53",
   "metadata": {},
   "source": [
    "### Gradientmetoden for en variabel\n",
    "\n",
    "Gradientmetoden er en algoritme som finner minimumspunkt til en funksjon i en eller flere variable. Dvs. et punkt $x$ slik at $f(a)\\geq f(x)$ for alle $a$ i et (lite) område rundt $x$. Du kjenner dette problemet både fra R2/matte 1 og fra matte 2. \n",
    "\n",
    "Tidligere så fant dere minimumspunkter ved å regne ut $f'(x)$, deretter løse $f'(x)=0$ symbolsk og til slutt undersøke nærmere (f.eks. med andrederivertstesten) for å se om punktet er et minimumspunkt. Problemet med det du har lært er at løse likningen $f'(x)=0$ er svært vanskelig bortsett fra i noen enkle eksempler. Det er selvfølgelig mulig å løse likningen numerisk, men det er ikke hva vi skal gjøre her.\n",
    "\n",
    "Ideen til gradientmetoden er veldig enkel. Vi starter med et punkt $x_0$, som vi tror kan være et rimelig svar. Deretter finner vi gradienten i dette punktet $\\nabla f (x_0)$. Retningen til gradienten $\\nabla f(x_0)$ er retningen hvor funksjonsverdien har størst stigningstall. I motsatt retning har vi minst stigningstall, dvs. det er \"brattest nedover\". \n",
    "\n",
    "Vi tar et lite skritt i motsatt retning av gradienten $x_1 = x_0 - \\lambda \\cdot \\nabla f (x_0)$ hvor $\\lambda$ er et passende, ofte lite, tall. Vi har (forhåpentligvis) mindre funksjonsverdi i $x_1$. Vi regner deretter ut gradienten i $x_1$ og tar et lite skritt til, $x_2 = x_1 - \\lambda \\cdot \\nabla f(x_1)$, for å få en enda mindre funksjonsverdi, og slik fortsetter vi til vi har fått en god nok tilnærming til et minimumspunkt. \n",
    "\n",
    "Hva som er en god nok tilnærming er avhengig av konteksten vi jobber i. I akkurat dette eksemplet betyr det at vi stopper når den deriverte er mindre enn 0.001\n",
    "\n",
    "Merk at gradienten for en envariabelfunksjon er den vanlige deriverte.\n"
   ]
  },
  {
   "cell_type": "code",
   "execution_count": 33,
   "id": "247e3727",
   "metadata": {},
   "outputs": [
    {
     "name": "stdout",
     "output_type": "stream",
     "text": [
      "Minimumspunkt er x = 0.0004981050134077757 med funksjonsverdi f(x) = -3.9999997518913957\n"
     ]
    }
   ],
   "source": [
    "# Vi finner minpunkt til f(x)=x^2-4. Gradienten er lik den deriverte f'(x)=2x i dette eksemplet.\n",
    "# Riktig svar er x = 0 med funksjonsverdi -4\n",
    "\n",
    "# Utregning av funksjonsverdi i punktet p \n",
    "def f(x):\n",
    "    return x*x-4\n",
    "\n",
    "# Utregning av den deriverte f'(x)\n",
    "def gradient(x):\n",
    "    return 2*x\n",
    "\n",
    "stegLengde = 0.001     # lambda i teksten over\n",
    "x = 4.0                # startverdi for x\n",
    "toleranse = 0.001      # Vi er fornøyd når feilen er mindre enn toleransen\n",
    "feil = gradient(x)     # Den deriverte skal være 0, slik at df/dx er feilen vi har nå\n",
    "\n",
    "while abs(feil) > toleranse:        # Vi gjentar til vi er fornøyd\n",
    "    nyGradient = gradient(x)        # Vi regner ut gradienten i punktet vi er i nå\n",
    "    x = x - stegLengde * nyGradient # Vi beveger oss et skritt i motsatt retning av gradienten\n",
    "    feil = nyGradient               # Brukes til å måle hvor langt vi er unnå at den deriverte er 0\n",
    "    # print(x)                      # Ta bort kommentartegnet hvis du vil se hvordan x endrer seg underveis\n",
    "    \n",
    "print(\"Minimumspunkt er x =\",x, \"med funksjonsverdi f(x) =\", f(x))  "
   ]
  },
  {
   "cell_type": "markdown",
   "id": "7d1d80d9",
   "metadata": {},
   "source": [
    "Det er ikke så enkelt å velge steglengden $\\lambda$. Hvis $\\lambda$ er for liten, så kan det gå lang tid å bli ferdig. Hvis $\\lambda$ er for stor så er det ikke sikkert metoden konvergerer. Vi kommer ikke til å gå i dybden på denne problemstillingen i denne øvingen, men vi skal se på et eksempel.\n",
    "\n",
    "Når algoritmen kjører med steglengde $2$ på funksjonen $x^2$ så konvergerer ikke algoritmen. Verdiene som produseres blir større og større. \n",
    "\n",
    "Med positiv steglengde så finnes det tre tilfeller for hva gradient descent vil gjøre på $x^2$. Når steglengden er i intervallet $(0,a)$ så vil gradient descent konvergere, når steglengden er $a$ så vil gradient descent alternere mellom startpunktet og et annet punkt og når steglengden er i intervallet $(a,\\infty)$ så vil gradient descent gi stigende verdier.\n",
    "\n",
    "Det er mulig å regne seg frem til tallet $a$.\n",
    "\n",
    "Dette kan du enten gjøre ved utregning for hånd, eller du kan prøve deg fram.\n",
    "\n",
    "Når gradient descent ikke konvergerer, så skyldes det at steglengden ganger gradienten vil bli så stor at programmet hopper forbi minimumspunktet.\n",
    "\n",
    "Siden algoritmen ikke alltid konvergerer, så legger vi inn en test i programmet som avslutter hvis vi har regnet for lenge.\n",
    "\n",
    "For funksjoner som er mer kompliserte enn $x^2$, så vil valg av steglengde være en viktig problemstilling. \n",
    "\n",
    "Du kan prøve å endre på maxAntallSteg og steglengde og se hva som skjer. Hvis du får tallet \"nan\", som betyr \"not a number\" så har du fått et tall som er så stort at det ikke kan lagres. "
   ]
  },
  {
   "cell_type": "code",
   "execution_count": 34,
   "id": "3a29339d-a9ab-40f0-80ba-21e69e8100a3",
   "metadata": {},
   "outputs": [
    {
     "name": "stdout",
     "output_type": "stream",
     "text": [
      "Algoritmen ble avsluttet fordi den kjørte for lenge\n",
      "Min punkt er x =  -19683.0 med funksjonsverdi f(x) =  387420489.0\n"
     ]
    }
   ],
   "source": [
    "# Vi mislykkes i å finne minimumspunkt for funksjonen f(x)=x^2\n",
    "\n",
    "def f(x):\n",
    "    return x**2\n",
    "\n",
    "def gradient(x):\n",
    "    return 2*x\n",
    "\n",
    "stegLengde = 2.0       # Eksperimenter med ulike steglengder. Steglengden 2.0 er nok alt for stor.\n",
    "x = 1                \n",
    "toleranse = 0.0001   \n",
    "feil = gradient(x)   \n",
    "maxAntallSteg = 10     # Maks antall steg som algoritmen vil utføre, prøv med ulike verdier\n",
    "antallSteg = 1         # Antall steg vi har utført så langt\n",
    "\n",
    "while abs(feil) > toleranse and maxAntallSteg > antallSteg:\n",
    "    nyGradient = gradient(x)\n",
    "    feil = nyGradient\n",
    "    x = x - stegLengde * nyGradient\n",
    "    antallSteg = antallSteg + 1\n",
    "    # print(antallSteg, feil, x, f(x)) # ta bort # hvis du vil se feilene og hvor du er underveis i beregningen\n",
    "\n",
    "if maxAntallSteg <= antallSteg:\n",
    "    print(\"Algoritmen ble avsluttet fordi den kjørte for lenge\")\n",
    "          \n",
    "print(\"Min punkt er x = \",x, \"med funksjonsverdi f(x) = \", f(x))"
   ]
  },
  {
   "cell_type": "markdown",
   "id": "7775dc92-0670-48c7-98e3-9744913a24a5",
   "metadata": {},
   "source": [
    "Her gir vi et eksempel på en funksjon hvor algoritmen ikke konvergerer, selv om vi er forsiktig med valg av skrittlengden.\n",
    "\n",
    "Vi definerer $f(x)=-|x|\\log(|x|)+x^2$ når $x≠0$ og vi definererer at $f(0)=0$. Denne funksjonen er kontinuerlig overalt og deriverbar overalt bortsett fra i punktet $x=0$.\n",
    "\n",
    "Denne funksjonen har nøyaktig ett minimumspunkt. Det er i punktet $x=0$. Alikevel vil gradient descent fungere ganske dårlig for denne funksjonen. \n",
    "\n",
    "Poenget her er at den deriverte av denne funksjonen går mot uendelig når $x$ går mot null, altså vil gradient descent aldri konvergere for noen valg av steglengde. Det er også mulig at algoritmen blir verdier utenfor definisjonsområdet for log\n",
    "\n",
    "Du kan prøve selv med med toleranse $0.001$, startpunkt $x=1$ og ulike steglengder, hvor du skriver ut verdiene underveis i gradient descent. \n",
    "\n",
    "PS. Den dervierte av $f$ er $ 2\\cdot x-(\\text{sign}(x)\\cdot \\log(|x|)+\\text{sign}(x))$. \n"
   ]
  },
  {
   "cell_type": "code",
   "execution_count": 35,
   "id": "d217a86b-1c56-4b50-a2ba-0ca9055abc27",
   "metadata": {},
   "outputs": [
    {
     "name": "stdout",
     "output_type": "stream",
     "text": [
      "Algoritmen avsluttet da den brukte for lang tid\n",
      "Min punkt er x = 0.6840237685751992 med funksjonsverdi f(x) = 0.7276551693997528\n"
     ]
    }
   ],
   "source": [
    "# Vi konvergerer ikke alltid til løsning\n",
    "\n",
    "import numpy as np\n",
    "\n",
    "def f(x):\n",
    "    return -abs(x) * np.log(abs(x)) + x**2\n",
    "\n",
    "def gradient(x):\n",
    "    return 2*x - (np.sign(x) * np.log(abs(x) / 10.0) + np.sign(x))\n",
    "\n",
    "stegLengde = 0.0001  \n",
    "x = 1.0                      # Du kan prøve å endre på startverdien til noe høyere. \n",
    "toleranse = 0.001    \n",
    "feil = gradient(x)   \n",
    "maxAntallSteg = 1000         # Du kan prøve å endre til noe større\n",
    "antallSteg = 1\n",
    "\n",
    "while abs(feil) > toleranse and antallSteg < maxAntallSteg:\n",
    "    nyGradient = gradient(x)\n",
    "    feil = nyGradient\n",
    "    x = x - stegLengde * nyGradient\n",
    "    antallSteg = antallSteg + 1\n",
    "    # print(feil, x, f(x))\n",
    "    \n",
    "if maxAntallSteg <= antallSteg:\n",
    "    print(\"Algoritmen avsluttet da den brukte for lang tid\")\n",
    "else:\n",
    "    print(\"Algoritmen avsluttet etter \", antallSteg, \"steg\")\n",
    "\n",
    "print(\"Min punkt er x =\", x, \"med funksjonsverdi f(x) =\", f(x))  "
   ]
  },
  {
   "cell_type": "markdown",
   "id": "b2d46c7f",
   "metadata": {},
   "source": [
    "### Flere minimumspunkter\n",
    "\n",
    "Hvis vi bruker gradient descent på funksjonen $f(x)=x^4 -12x^3-32x^2+240x$ med startverdi $x=-4$ så får vi et annet svar enn om vi bruker $x=4$. \n",
    "\n",
    "Her anbefaler vi at du tegner grafen til funksjonen (gjerne med geogebra eller med Python) for å forstå hva som foregår.\n",
    "\n",
    "Vi anbefaler også at du implementerer gradientmetoden for dette problemet. Det vil gjøre det lettere å løse oppgavene du skal levere senere.\n"
   ]
  },
  {
   "cell_type": "markdown",
   "id": "140cf713",
   "metadata": {},
   "source": [
    "### Gradientmetoden med numerisk beregning av gradient\n",
    "\n",
    "Det er ikke nødvendigvis så enkelt å finne en formel for de partiellderiverte, og det er ikke sikkert vi har en formel for funksjonen $f$ heller. Vi må i såfall regne numerisk, dvs. vi bruker \n",
    "$$\n",
    "f'(x)\\approx \\frac{f(x+\\Delta x)-f(x-\\Delta x)}{2\\cdot \\Delta x}\n",
    "$$\n",
    "\n",
    "Vi endrer eksemplet over slik at vi regner ut den deriverte numerisk. Nå får vi en ny parameter delta som vi også må justere. \n",
    "\n",
    "Det er to grunner til at vi velger å bruke numerisk beregning av gradienten. For det første, det kan være svært vanskelig eller umulig å regne ut en formel for de deriverte. For det andre, vi trenger ikke lenger regne ut den deriverte for hånd (eller med sympy) og programmere denne. Vi har nå en beregning av gradienten som fungerer for alle funksjoner $f$.\n",
    "\n",
    "I eksemplet regner vi også ut den deriverte for en funksjon $g$. Vi bruker samme funksjon for å regne ut gradienten som vi gjør for $f$.\n",
    "\n"
   ]
  },
  {
   "cell_type": "code",
   "execution_count": 36,
   "id": "e8c3a0ab",
   "metadata": {},
   "outputs": [
    {
     "name": "stdout",
     "output_type": "stream",
     "text": [
      "Tilnærmingen til den deriverte til funksjonen g(x) = sin(x) for x = 10 med deltax = 0.001 er  -0.8390713892307278\n",
      "Algoritmen avsluttet etter  319 steg\n",
      "Minimumpunkt for x =  1.0048642213615864 med funksjonsverdi f(x) =  3.000023660649455\n"
     ]
    }
   ],
   "source": [
    "import numpy as np\n",
    "\n",
    "# Vi finner minpunkt til f(x)=x^2-2x+4. \n",
    "# Vi bruker ikke formel for den deriverte i dette eksemplet\n",
    "# Riktig svar er x = 1 med funksjonsverdi 3\n",
    "\n",
    "def f(x):\n",
    "    return x*x-2*x+4\n",
    "\n",
    "def g(x):\n",
    "    return np.sin(x)\n",
    "\n",
    "# numerisk beregning av den deriverte\n",
    "# f er funksjonen vi skal derivere\n",
    "# x er punktet vi skal derivere i\n",
    "# deltax er 0.5 av lengden til intervallet vi bruker i tilnærmingen\n",
    "def gradient(f, x, deltax):\n",
    "    return (f(x + deltax) - f(x - deltax)) / (2.0*deltax)\n",
    " \n",
    "print(\"Tilnærmingen til den deriverte til funksjonen g(x) = sin(x) for x = 10 med deltax = 0.001 er \", gradient(g, 10, 0.001))\n",
    "\n",
    "deltax = 0.0000001   # delta i beregning av tilnærming til den deriverte\n",
    "x = 4.0              \n",
    "stegLengde = 0.01    \n",
    "toleranse = 0.01     \n",
    "feil = gradient(f, x, deltax)\n",
    "maxAntallSteg = 1000 \n",
    "antallSteg = 1      \n",
    "\n",
    "while abs(feil) > toleranse and maxAntallSteg > antallSteg:\n",
    "    nyGradient = gradient(f,x,deltax)\n",
    "    x = x - stegLengde * nyGradient\n",
    "    feil = nyGradient\n",
    "    antallSteg = antallSteg + 1\n",
    "    # print(antallSteg, feil, x)\n",
    "    \n",
    "if maxAntallSteg <= antallSteg:\n",
    "    print(\"Algoritmen avsluttet da den brukte for lang tid\")\n",
    "else:\n",
    "    print(\"Algoritmen avsluttet etter \", antallSteg, \"steg\")\n",
    "    \n",
    "print(\"Minimumpunkt for x = \",x, \"med funksjonsverdi f(x) = \", f(x))\n",
    "\n"
   ]
  },
  {
   "cell_type": "markdown",
   "id": "40038bed",
   "metadata": {},
   "source": [
    "\n",
    "Når du lærte om derivasjon første gang så ble du kanskje fortalt at $\\Delta x$ skal være så liten som mulig for å få en god tilnærming. Det stemmer ikke helt, da datamaskiner kan ikke lagre veldig små eller veldig store tall. \n",
    "\n",
    "Vi ser på et eksempel\n",
    "\n",
    "Vi regn ut den deriverte av funksjonen $f(x)=\\cos(x^2)$ i $x=10$ ved å gjøre symbolske utregninger og deretter sette inn for $x=10$ i det\n",
    "symbolske uttrykket. Svaret blir skrevet ut.\n",
    "\n",
    "Vi lager et program skriver ut tilnærminger til den deriverte av funksjonen $f(x)=\\cos(x^2)$ i $x=10.0$, for $\\Delta x=10^{-n}$ for alle heltall $n$ mellom $0$ og $20$ ved å bruke funksjonen gradient definert i eksemplet over. \n",
    "\n",
    "Vi kan da se hvilken verdi for $\\Delta x$ som gir best tilnærming. For akkurat denne situasjonen så er $n=6$, dvs. $\\Delta x=10^{-6}$, et bra valg.\n",
    "\n",
    "Merk at i en annen situasjon, f.eks. med en annen funksjon, så kan svaret være noe helt annet.\n"
   ]
  },
  {
   "cell_type": "code",
   "execution_count": 37,
   "id": "39f247bf-1225-4368-b90c-9305866e3f97",
   "metadata": {},
   "outputs": [
    {
     "name": "stdout",
     "output_type": "stream",
     "text": [
      "Symbolsk utregnet verdi er  -10.127312822195176\n",
      "0 1.0 -0.41267479561089254\n",
      "1 0.1 4.525730402038244\n",
      "2 0.01 10.058219092258941\n",
      "3 0.001 10.12662043627155\n",
      "4 0.0001 10.127305898167682\n",
      "5 1e-05 10.127312752566953\n",
      "6 1.0000000000000002e-06 10.127312813912324\n",
      "7 1.0000000000000002e-07 10.127312760621619\n",
      "8 1.0000000000000002e-08 10.127313659902269\n",
      "9 1.0000000000000003e-09 10.127313654351152\n",
      "10 1.0000000000000003e-10 10.127313432306547\n",
      "11 1.0000000000000003e-11 10.126416372102652\n",
      "12 1.0000000000000002e-12 10.131839811577946\n",
      "13 1.0000000000000002e-13 10.074163725448669\n",
      "14 1.0000000000000002e-14 10.796918914479646\n",
      "15 1e-15 14.377388168895775\n",
      "16 1.0000000000000001e-16 0.0\n",
      "17 1e-17 0.0\n",
      "18 1e-18 0.0\n",
      "19 1.0000000000000001e-19 0.0\n"
     ]
    }
   ],
   "source": [
    "import numpy as np  \n",
    "\n",
    "# beregning av funksjonsverdien f(x)\n",
    "def f(x):\n",
    "    return np.cos(x**2)\n",
    "\n",
    "# den deriverte til f(x) beregnet symbolsk og deretter implementert\n",
    "def df(x):\n",
    "    return -2.0*x*np.sin(x**2)\n",
    "\n",
    "# numerisk beregning av den deriverte\n",
    "def gradient(f, x, delta):\n",
    "    return (f(x + delta) - f(x - delta)) / (2.0*delta)\n",
    "\n",
    "x = 10.0\n",
    "\n",
    "print(\"Symbolsk utregnet verdi er \", df(x));\n",
    "\n",
    "delta = 10    \n",
    "for i in range (0,20):\n",
    "    delta /= 10.0\n",
    "    deriverte = gradient(f, x, delta)\n",
    "    print(i, delta, deriverte)\n"
   ]
  },
  {
   "cell_type": "markdown",
   "id": "aeb3ad17",
   "metadata": {},
   "source": [
    "## Del 2: Gradientmetoden med flere variable\n",
    "\n",
    "Vi er mest interessert i problemer med flere (kanskje svært mange) variabler. Så vi utvider koden slik at vi kan behandle dette. Her så er ikke $x$ et tall lenger, istedet en vektor som vi kaller $p$. Vi ser på vektorer i to dimensjoner i eksemplet.\n",
    "\n",
    "Vi bruker numpy når vi jobber med vektorer og matriser numerisk.\n",
    "\n",
    "Gradienten er en vektor satt sammen av de partiellderiverte. For eksempel,\n",
    "\n",
    "$\\frac{\\partial f}{\\partial x} \\approx \\frac{f(p+\\begin{pmatrix}\\Delta \\\\ 0\\end{pmatrix}) - f(p-\\begin{pmatrix}\\Delta \\\\ 0\\end{pmatrix})}{2\\cdot \\Delta}$\n",
    "\n",
    "og \n",
    "\n",
    "$\\frac{\\partial f}{\\partial y} \\approx \\frac{f(p+\\begin{pmatrix}0 \\\\ \\Delta \\end{pmatrix}) - f(p-\\begin{pmatrix}0 \\\\ \\Delta\\end{pmatrix})}{2\\cdot \\Delta}$.\n",
    "\n",
    "for et lite tall $\\Delta$.\n",
    "\n",
    "Vi lager en liten hjelpefunksjon \"abs\" som regner ut lengden til en vektor, slik at koden ser så lik ut som mulig med koden over. Denne funksjonen\n",
    "er bare der for at koden blir litt enklere å lese.\n"
   ]
  },
  {
   "cell_type": "code",
   "execution_count": 13,
   "id": "785418ef",
   "metadata": {},
   "outputs": [
    {
     "name": "stdout",
     "output_type": "stream",
     "text": [
      "Algoritmen avsluttet etter  376 steg\n",
      "Minimumspunkt for p = [-0.9953866  1.0015378] med funksjonsverdi f(p) = 2.0000236482647518  og feil  0.009924384004406076\n"
     ]
    }
   ],
   "source": [
    "%reset -f\n",
    "\n",
    "# Vi finner et minimumspunkt til f(x,y) = x**2 + 2x + y**2 - 2*y + 4. Riktig svar er (-1,1) med funksjonsverdi 2. \n",
    "# Vi starter i [8,4], velger delta = 0.00001 og stegLengde = 0.01.\n",
    "\n",
    "import numpy as np\n",
    "     \n",
    "# p[0] er x-koordinat og p[1] er y-koordinat til punktet\n",
    "def f(p):\n",
    "    return p[0]**2 + 2*p[0] + p[1]**2 - 2*p[1] + 4\n",
    "\n",
    "# Utregning av partiellderiverte numerisk\n",
    "# i er hvilken retning vi skal derivere\n",
    "# p er punktet vi skal derivere i\n",
    "# f er funksjonen vi skal derivere\n",
    "# delta er et \"lite\" tall vi bruker i tilnærmingen til den deriverte\n",
    "def diff(f, p, i, delta):\n",
    "    q1 = np.copy(p) \n",
    "    q1[i] = q1[i] - delta\n",
    "    q2 = np.copy(p) \n",
    "    q2[i] = q2[i] + delta\n",
    "    return (f(q2) - f(q1))  / (2*delta)\n",
    "\n",
    "# regner ut gradienten i et punkt ved å samle alle de deriverte i en vektor\n",
    "def gradient(f, p, delta):\n",
    "    return np.array([diff(f,p,i,delta) for i in range(len(p))])\n",
    "    \n",
    "p = np.array([8.0,4.0])   # startposisjon p[0] er x-koordinat, p[1] er y-koordinat\n",
    "\n",
    "def algortime(f, p, max=1000):\n",
    "\n",
    "    # regner ut lengden til en vektor - strengt tatt ikke nødvendig, vi kunne ha brukt np.linalg.norm direkte\n",
    "    abs = np.linalg.norm\n",
    "    \n",
    "    delta = 0.00001           # delta i beregning av tilnærming til den deriverte\n",
    "    stegLengde = 0.01         \n",
    "    toleranse = 0.01          \n",
    "    maxAntallSteg = max \n",
    "    antallSteg = 1\n",
    "    feil = gradient(f, p, delta)\n",
    "\n",
    "    while abs(feil) > toleranse and maxAntallSteg > antallSteg:\n",
    "        nyGradient = gradient(f,p,delta)\n",
    "        p = p - stegLengde * nyGradient\n",
    "        feil = nyGradient\n",
    "        antallSteg = antallSteg + 1\n",
    "        feil = nyGradient\n",
    "        # print(antallSteg, feil, p)\n",
    "\n",
    "    if maxAntallSteg <= antallSteg:\n",
    "        print(\"Algoritmen avsluttet da den brukte for lang tid\")\n",
    "        print(f\"feil: {abs(feil)}\")\n",
    "        print(f\"rekursjon\")\n",
    "        algortime(f, p, max=(maxAntallSteg+1000))\n",
    "    else:\n",
    "        print(\"Algoritmen avsluttet etter \", antallSteg, \"steg\")\n",
    "        print(\"Minimumspunkt for p =\",p, \"med funksjonsverdi f(p) =\", f(p), \" og feil \", abs(feil))    \n",
    "\n",
    "algortime(f,p)"
   ]
  },
  {
   "cell_type": "markdown",
   "id": "06173d6f-ebed-4495-a881-24443506f26b",
   "metadata": {
    "tags": []
   },
   "source": [
    "### Oppgave 1\n",
    "\n",
    "Bruk gradient descent på funksjonen $$f(x,y,z,w)=x^2+2y^2+3z^2+w^2+2xy+3xz+xw+4yz+2yw+2wz-3x-8y-5z-7w$$ for å finne et minimumspunkt. Bruk valgfritt startpunkt, skrittlengde $0.01$, toleranse $0.01$ og $\\delta=0.00001$. Gjør dette ved å kopiere koden i eksemplet over og å endre på koden hvor det trengs. Juster maksimalt antall steg hvis det er nødvendig, men ikke lever noe med mer enn 50000 steg.\n",
    "\n",
    "Det er viktig at algoritmen få kjørt ferdig. Hvis algoritmen avslutter med feil større enn toleransen, så må du tenke litt og justere noe for å komme frem til et godt svar.\n"
   ]
  },
  {
   "cell_type": "code",
   "execution_count": 14,
   "id": "e563f01c-3c44-432c-953a-3656933bf720",
   "metadata": {},
   "outputs": [
    {
     "name": "stdout",
     "output_type": "stream",
     "text": [
      "Algoritmen avsluttet da den brukte for lang tid\n",
      "feil: 0.035372979994402254\n",
      "rekursjon\n",
      "Algoritmen avsluttet etter  338 steg\n",
      "Minimumspunkt for p = [ 1.02163775  2.00478103 -2.01442473  2.99854969] med funksjonsverdi f(p) = -14.99986849305747  og feil  0.00996969146286124\n"
     ]
    }
   ],
   "source": [
    "#\n",
    "# Svaret på oppgaven skal legges inn her\n",
    "#\n",
    "def f_oppgave_1(p):\n",
    "    x = p[0]\n",
    "    y = p[1]\n",
    "    z = p[2]\n",
    "    w = p[3]\n",
    "\n",
    "    return x**2 + 2*y**2 + 3*z**2 + w**2 + 2*x*y + 3*x*z + x*w + 4*y*z + 2*y*w + 2*w*z - 3*x - 8*y - 5*z - 7*w\n",
    "\n",
    "p_oppgave_1 = np.array([8.0,4.0,2.0,1.0])\n",
    "\n",
    "algortime(f_oppgave_1,p_oppgave_1)"
   ]
  },
  {
   "cell_type": "markdown",
   "id": "003dd039",
   "metadata": {},
   "source": [
    "# Del 3: Gradient descent og likningssystemer \n",
    "\n",
    "Vi skal se på hvordan vi kan bruker gradient descent for å løse et likningssystem\n",
    "\n",
    "Systemet vi skal løse er\n",
    "\n",
    "$$\\cos(\\theta_1) + \\cos(\\theta_1 + \\theta_2) = 1.5$$\n",
    "$$\\sin(\\theta_1) + \\sin(\\theta_1 + \\theta_2) = 0.3$$\n",
    "\n",
    "Vi lager en vektor $f$\n",
    "\n",
    "$$\n",
    "f(p) = \\begin{pmatrix}f_1(p) \\\\ f_2(p) \\end{pmatrix} = \\begin{pmatrix}\\cos(\\theta_1) + \\cos(\\theta_1 + \\theta_2) - 1.5 \\\\ \\sin(\\theta_1) + \\sin(\\theta_1 + \\theta_2) - 0.3\\end{pmatrix}\n",
    "$$\n",
    "\n",
    "Vi er ute etter $\\theta_1$ og $\\theta_2$ slik at $f$ er så nær null-vektor som mulig. Dvs. vi minimerer (kvadratet) til lengden til vektoren $f$, som regnes ut ved å ta skalarproduktet av vektoren med seg selv. Hvis $f$ er lik null, så har vi løst likningssystemet.\n",
    "\n",
    "### Vi gir dere ikke hele koden denne gangen. Dere må fylle ut litt selv. Se kommentarene i koden under.\n",
    "\n"
   ]
  },
  {
   "cell_type": "code",
   "execution_count": 32,
   "id": "a89505ec",
   "metadata": {},
   "outputs": [
    {
     "name": "stdout",
     "output_type": "stream",
     "text": [
      "Algoritmen avsluttet da den brukte for lang tid\n",
      "Med vinklene p =  [-9.10107346 -3.49834434]  så har avstand til løsning lik  1.58821587078985\n",
      "feil: 5.3167690846477855\n",
      "rekursjon\n",
      "Algoritmen avsluttet da den brukte for lang tid\n",
      "Med vinklene p =  [-4.62318644 -0.51089984]  så har avstand til løsning lik  1.9947134860850624\n",
      "feil: 2.812174362592215\n",
      "rekursjon\n",
      "Algoritmen avsluttet etter  24 steg\n",
      "Med vinklene p =  [-10.33449539  -5.96527954]  så har avstand til løsning lik  3.1246067499025383\n",
      "feil: 0.856917860384591\n"
     ]
    }
   ],
   "source": [
    "%reset -f\n",
    "\n",
    "import numpy as np\n",
    "\n",
    "def diff(f, p, i, delta):\n",
    "    q1 = np.copy(p) \n",
    "    q1[i] -= delta\n",
    "    q2 = np.copy(p) \n",
    "    q2[i] += delta\n",
    "    return (f(q2) - f(q1))  / (2 * delta)\n",
    "\n",
    "\n",
    "# **************************\n",
    "# Dere må implementere dette\n",
    "#\n",
    "\n",
    "# p[0] er theta1\n",
    "# p[1] er theta2\n",
    "# vi returnerer kvadratet av lengden av f(p)\n",
    "def f(p):\n",
    "    #return np.array([0.0,0.0])  # Ta bort denne linjen når du starter\n",
    "\n",
    "    theta1 = p[0]\n",
    "    theta2 = p[1]\n",
    "\n",
    "    f_1 = np.cos(theta1) + np.cos(theta1 + theta2) - 1.5\n",
    "    f_2 = np.sin(theta1) + np.sin(theta1 + theta2) - 0.3\n",
    "\n",
    "    return f_1**2+f_2**2\n",
    "#\n",
    "#\n",
    "# ****************************\n",
    "\n",
    "\n",
    "def gradient(f, p, delta):\n",
    "    grad = [diff(f,p,i,delta) for i in range(len(p))]\n",
    "    return np.array(grad)\n",
    "    \n",
    "abs = np.linalg.norm\n",
    "\n",
    "p = np.array([0.0,0.0])\n",
    "def algoritme(f, p, max=10, steg=1):\n",
    "    # ***************************\n",
    "    # Dere må prøve dere frem og gjøre noen gode valg for tallene her\n",
    "    #\n",
    "    delta = 1.0  \n",
    "    #   \n",
    "    stegLengde = 1.0            \n",
    "    toleranse = 1.0\n",
    "    antallSteg = steg\n",
    "    maxAntallSteg = max\n",
    "    #\n",
    "    #\n",
    "    # ****************************\n",
    "\n",
    "\n",
    "    feil = gradient(f, p, delta)\n",
    "\n",
    "    while abs(feil) > toleranse and maxAntallSteg > antallSteg:\n",
    "        nyGradient = gradient(f,p,delta)\n",
    "        p = p - stegLengde * nyGradient\n",
    "        feil = nyGradient\n",
    "        antallSteg = antallSteg + 1\n",
    "\n",
    "    if maxAntallSteg <= antallSteg:\n",
    "        print(\"Algoritmen avsluttet da den brukte for lang tid\")\n",
    "        print(\"Med vinklene p = \", p, \" så har avstand til løsning lik \", np.sqrt(f(p)))\n",
    "        print(f\"feil: {abs(feil)}\")\n",
    "        print(\"rekursjon\")\n",
    "        algoritme(f, p, max+10, antallSteg)\n",
    "    else:\n",
    "        print(\"Algoritmen avsluttet etter \", antallSteg, \"steg\")\n",
    "        print(\"Med vinklene p = \", p, \" så har avstand til løsning lik \", np.sqrt(f(p)))\n",
    "        print(f\"feil: {abs(feil)}\")\n",
    "\n",
    "algoritme(f, p)"
   ]
  },
  {
   "cell_type": "code",
   "execution_count": 41,
   "id": "d7214272",
   "metadata": {},
   "outputs": [],
   "source": [
    "#\n",
    "# Svaret skal legges inn her\n",
    "#"
   ]
  },
  {
   "cell_type": "markdown",
   "id": "6c2e5aeb-5fbc-4b53-9a45-6579851c26f9",
   "metadata": {},
   "source": [
    "## Oppgave 2\n",
    "\n",
    "Denne gangen skal du løse likningen\n",
    "\n",
    "$$\\cos(\\theta_1) + \\cos(\\theta_1 + \\theta_2) = 4.0$$\n",
    "$$\\sin(\\theta_1) + \\sin(\\theta_1 + \\theta_2) = 4.0$$\n",
    "\n",
    "Kopier og endre koden over slik at programmet forsøker å løse denne likningen. \n",
    "\n",
    "Denne likningen kan ikke løses. Gi en forklaring i svarboksen på hvorfor det ikke finnes noen løsning her.\n",
    "\n",
    "Algoritmen gir likevel et svar. Forklar hva dette svaret betyr. Dvs. hva er det egentlig algoritmen regner ut?\n"
   ]
  },
  {
   "cell_type": "code",
   "execution_count": 33,
   "id": "cc799cee",
   "metadata": {},
   "outputs": [
    {
     "name": "stdout",
     "output_type": "stream",
     "text": [
      "Algoritmen avsluttet da den brukte for lang tid\n",
      "Med vinklene p =  [63.0141351  30.77064522]  så har avstand til løsning lik  4.763983621159886\n",
      "feil: 8.97071455951367\n",
      "rekursjon\n",
      "Algoritmen avsluttet da den brukte for lang tid\n",
      "Med vinklene p =  [56.83111609  8.02703354]  så har avstand til løsning lik  4.480838678311929\n",
      "feil: 11.474583847380702\n",
      "rekursjon\n",
      "Algoritmen avsluttet da den brukte for lang tid\n",
      "Med vinklene p =  [ 11.7295119  -12.19059765]  så har avstand til løsning lik  5.730375861052364\n",
      "feil: 8.916773597874545\n",
      "rekursjon\n",
      "Algoritmen avsluttet da den brukte for lang tid\n",
      "Med vinklene p =  [30.73759039 -5.9930906 ]  så har avstand til løsning lik  5.507391272443597\n",
      "feil: 13.637612573328393\n",
      "rekursjon\n",
      "Algoritmen avsluttet da den brukte for lang tid\n",
      "Med vinklene p =  [90.01500254 -4.73483181]  så har avstand til løsning lik  6.430294832860393\n",
      "feil: 12.703127856388756\n",
      "rekursjon\n",
      "Algoritmen avsluttet da den brukte for lang tid\n",
      "Med vinklene p =  [90.69140879 22.76986173]  så har avstand til løsning lik  5.133269294076391\n",
      "feil: 13.708332285264358\n",
      "rekursjon\n",
      "Algoritmen avsluttet da den brukte for lang tid\n",
      "Med vinklene p =  [87.94907375 20.66618398]  så har avstand til løsning lik  4.435749930537627\n",
      "feil: 6.284590482229503\n",
      "rekursjon\n",
      "Algoritmen avsluttet da den brukte for lang tid\n",
      "Med vinklene p =  [131.14185482  46.89336293]  så har avstand til løsning lik  5.4290154355305775\n",
      "feil: 20.759084728220532\n",
      "rekursjon\n",
      "Algoritmen avsluttet da den brukte for lang tid\n",
      "Med vinklene p =  [157.74344502  34.34437619]  så har avstand til løsning lik  5.612563038109269\n",
      "feil: 8.129505702377726\n",
      "rekursjon\n",
      "Algoritmen avsluttet da den brukte for lang tid\n",
      "Med vinklene p =  [191.49075639  43.96232674]  så har avstand til løsning lik  7.02223548287788\n",
      "feil: 5.2253499411036834\n",
      "rekursjon\n",
      "Algoritmen avsluttet da den brukte for lang tid\n",
      "Med vinklene p =  [204.01769983  42.23372811]  så har avstand til løsning lik  5.450547849047243\n",
      "feil: 7.113712478386702\n",
      "rekursjon\n",
      "Algoritmen avsluttet da den brukte for lang tid\n",
      "Med vinklene p =  [227.85310911  44.00380596]  så har avstand til løsning lik  4.652908559911395\n",
      "feil: 4.230022835743728\n",
      "rekursjon\n",
      "Algoritmen avsluttet da den brukte for lang tid\n",
      "Med vinklene p =  [204.06068848  42.0816421 ]  så har avstand til løsning lik  5.419121291707276\n",
      "feil: 9.889994094166193\n",
      "rekursjon\n",
      "Algoritmen avsluttet da den brukte for lang tid\n",
      "Med vinklene p =  [206.73170727  40.57295694]  så har avstand til løsning lik  5.390109246770543\n",
      "feil: 15.950735142025353\n",
      "rekursjon\n",
      "Algoritmen avsluttet da den brukte for lang tid\n",
      "Med vinklene p =  [280.94014604  55.94477048]  så har avstand til løsning lik  7.521484941308996\n",
      "feil: 5.982431651500069\n",
      "rekursjon\n",
      "Algoritmen avsluttet da den brukte for lang tid\n",
      "Med vinklene p =  [288.48495702  76.2173667 ]  så har avstand til løsning lik  4.769521385882902\n",
      "feil: 10.467314869279269\n",
      "rekursjon\n",
      "Algoritmen avsluttet da den brukte for lang tid\n",
      "Med vinklene p =  [267.80803811  61.49672829]  så har avstand til løsning lik  6.948465614507749\n",
      "feil: 5.704793659064095\n",
      "rekursjon\n",
      "Algoritmen avsluttet da den brukte for lang tid\n",
      "Med vinklene p =  [200.44911672  26.11822726]  så har avstand til løsning lik  4.774757456938888\n",
      "feil: 8.366490604661836\n",
      "rekursjon\n",
      "Algoritmen avsluttet da den brukte for lang tid\n",
      "Med vinklene p =  [219.3973296   18.90730134]  så har avstand til løsning lik  5.4138817505804475\n",
      "feil: 15.016070920541397\n",
      "rekursjon\n",
      "Algoritmen avsluttet da den brukte for lang tid\n",
      "Med vinklene p =  [253.6589081   34.38620507]  så har avstand til løsning lik  5.826948591431335\n",
      "feil: 2.787777984324046\n",
      "rekursjon\n",
      "Algoritmen avsluttet da den brukte for lang tid\n",
      "Med vinklene p =  [195.23477608  27.94477707]  så har avstand til løsning lik  5.508835223239239\n",
      "feil: 5.190570073895642\n",
      "rekursjon\n",
      "Algoritmen avsluttet da den brukte for lang tid\n",
      "Med vinklene p =  [217.56795256  38.15240229]  så har avstand til løsning lik  7.5642863017866455\n",
      "feil: 16.447642844641233\n",
      "rekursjon\n",
      "Algoritmen avsluttet da den brukte for lang tid\n",
      "Med vinklene p =  [210.47940985  31.12032259]  så har avstand til løsning lik  7.0074336218460465\n",
      "feil: 10.719737589373674\n",
      "rekursjon\n",
      "Algoritmen avsluttet da den brukte for lang tid\n",
      "Med vinklene p =  [200.14305482  49.30265088]  så har avstand til løsning lik  6.834609074085577\n",
      "feil: 4.0941115277425775\n",
      "rekursjon\n",
      "Algoritmen avsluttet da den brukte for lang tid\n",
      "Med vinklene p =  [194.1028916   47.10003796]  så har avstand til løsning lik  5.63311700257866\n",
      "feil: 9.54131236283943\n",
      "rekursjon\n",
      "Algoritmen avsluttet da den brukte for lang tid\n",
      "Med vinklene p =  [262.40140157  33.8162651 ]  så har avstand til løsning lik  5.35206971552347\n",
      "feil: 5.548970112924136\n",
      "rekursjon\n",
      "Algoritmen avsluttet da den brukte for lang tid\n",
      "Med vinklene p =  [286.38105795  20.47381444]  så har avstand til løsning lik  6.883312817438011\n",
      "feil: 20.737805115149904\n",
      "rekursjon\n",
      "Algoritmen avsluttet etter  272 steg\n",
      "Med vinklene p =  [292.27728595  31.0572001 ]  så har avstand til løsning lik  7.10443944790665\n",
      "feil: 0.7355072799483936\n"
     ]
    }
   ],
   "source": [
    "#\n",
    "# Svaret på kodebiten skal legges inn her.\n",
    "#\n",
    "\n",
    "def f_oppgave_2(p):\n",
    "    #return np.array([0.0,0.0])  # Ta bort denne linjen når du starter\n",
    "\n",
    "    theta1 = p[0]\n",
    "    theta2 = p[1]\n",
    "\n",
    "    f_1 = np.cos(theta1) + np.cos(theta1 + theta2) - 4.0\n",
    "    f_2 = np.sin(theta1) + np.sin(theta1 + theta2) - 4.0\n",
    "\n",
    "    return f_1**2+f_2**2\n",
    "\n",
    "algoritme(f_oppgave_2, p)\n",
    "\n"
   ]
  },
  {
   "cell_type": "markdown",
   "id": "6c93f14d-0f5c-4651-9db9-b750f8d05df2",
   "metadata": {},
   "source": [
    "Tekstsvaret skal legges inn her."
   ]
  },
  {
   "cell_type": "markdown",
   "id": "0cb95dde",
   "metadata": {},
   "source": [
    "## Oppgave 3\n",
    "\n",
    "Løs følgende system med fire variabler ved bruk av gradient descent, bruk samme toleranse, steglengde og $\\delta$ som i eksempelkoden over.\n",
    "\n",
    "$$r_1\\cos(\\theta_1) + r_2\\cos(\\theta_1 + \\theta_2) = 1.0$$\n",
    "$$r_1\\sin(\\theta_1) + r_2\\sin(\\theta_1 + \\theta_2) = 0.5$$\n",
    "\n",
    "Dette systemet vil ha mer enn en løsning. Finn to startpunkt som gir to ulike løsninger. Som før så skal du kopiere koden og endre der det trengs.\n"
   ]
  },
  {
   "cell_type": "code",
   "execution_count": 40,
   "id": "40272fbb-5fe6-4d9a-a551-bc51a8204cf6",
   "metadata": {},
   "outputs": [
    {
     "name": "stdout",
     "output_type": "stream",
     "text": [
      "Algoritmen avsluttet da den brukte for lang tid\n",
      "Med vinklene p =  [        0.         0. -40353607. -40353606.]  så har avstand til løsning lik  114137236.62014773\n",
      "feil: 65221278.06865585\n",
      "rekursjon\n",
      "Algoritmen avsluttet da den brukte for lang tid\n",
      "Med vinklene p =  [ 0.00000000e+00  0.00000000e+00 -1.18788719e+16 -1.18788719e+16]  så har avstand til løsning lik  3.3598523628693876e+16\n",
      "feil: 1.9107155017577316e+16\n",
      "rekursjon\n",
      "Algoritmen avsluttet etter  22 steg\n",
      "Med vinklene p =  [ 0.00000000e+00  0.00000000e+00 -1.18788719e+16  1.32236316e+17]  så har avstand til løsning lik  1.7021112989213085e+17\n",
      "feil: 0.0\n"
     ]
    }
   ],
   "source": [
    "#\n",
    "# Svaret på oppgaven skal legges inn her. Ta med de to startpunktene som kommentarer slik at vi kan prøve ut.\n",
    "#\n",
    "\n",
    "def f_oppgave_3(p):\n",
    "    theta1 = p[0]\n",
    "    theta2 = p[1]\n",
    "    r1 = p[2]\n",
    "    r2 = p[3]\n",
    "\n",
    "    f_1 = r1*np.cos(theta1) + r2*np.cos(theta1+theta2) - 1.0\n",
    "    f_2 = r1*np.cos(theta1) + r2*np.cos(theta1+theta2) - 1.0\n",
    "\n",
    "    return f_1**2 + f_2**2\n",
    "\n",
    "p_oppgave_3_1 = np.array([0.0,0.0, 1.0, 2.0])\n",
    "\n",
    "algoritme(f_oppgave_3, p_oppgave_3_1)"
   ]
  },
  {
   "cell_type": "code",
   "execution_count": 41,
   "id": "69acf7d9",
   "metadata": {},
   "outputs": [
    {
     "name": "stdout",
     "output_type": "stream",
     "text": [
      "Algoritmen avsluttet da den brukte for lang tid\n",
      "Med vinklene p =  [ 7.00051891e+05  1.11175594e+05 -1.93148059e+01  2.69003726e+02]  så har avstand til løsning lik  253.98312638286592\n",
      "feil: 6455.523434897611\n",
      "rekursjon\n",
      "Algoritmen avsluttet da den brukte for lang tid\n",
      "Med vinklene p =  [ 1.79751414e+08 -1.62447557e+08  2.02234680e+04  3.93218652e+04]  så har avstand til løsning lik  15332.200731970031\n",
      "feil: 251552075.14159575\n",
      "rekursjon\n",
      "Algoritmen avsluttet da den brukte for lang tid\n",
      "Med vinklene p =  [3.62265464e+14 2.62639775e+14 1.19068651e+07 9.13106482e+06]  så har avstand til løsning lik  12755001.258005962\n",
      "feil: 441426586823632.06\n",
      "rekursjon\n",
      "Algoritmen avsluttet da den brukte for lang tid\n",
      "Med vinklene p =  [ 9.70333320e+15 -9.86922221e+15  1.18654793e+11  1.18535496e+10]  så har avstand til løsning lik  164406548995.16647\n",
      "feil: 161806038613.86652\n",
      "rekursjon\n",
      "Algoritmen avsluttet da den brukte for lang tid\n",
      "Med vinklene p =  [ 9.70333320e+15 -9.86922221e+15  3.23888036e+15  4.32417715e+14]  så har avstand til løsning lik  4502542990636995.0\n",
      "feil: 4538647623875280.0\n",
      "rekursjon\n",
      "Algoritmen avsluttet etter  53 steg\n",
      "Med vinklene p =  [ 9.70333320e+15 -9.86922221e+15  6.29115754e+16  1.84468162e+16]  så har avstand til løsning lik  8.882213919004702e+16\n",
      "feil: 0.0\n"
     ]
    }
   ],
   "source": [
    "p_oppgave_3_2 = np.array([2.0,0.0, 1.0, 2.0])\n",
    "\n",
    "algoritme(f_oppgave_3, p_oppgave_3_2)"
   ]
  },
  {
   "cell_type": "markdown",
   "id": "526ec04d-1cb1-4d18-afdc-3b4f176d7b18",
   "metadata": {},
   "source": [
    "# Del 4 Kinematikk fremover\n",
    "\n",
    "Vi henviser til forelesningen for mer informasjon om dette temaet.\n",
    "\n",
    "I eksempelet under så har vi en robotarm med tre ledd som ligger i et to-dimensjonalt plan. Hvis vi tenker oss at robotarmen starter i origo så kan vi regne ut posisjonen til effektoren (det vil si enden av robotarmen) hvis vi vet lengden på hver del av robotarmen og vinkelen i hvert ledd, dvs vi vet vinkelen mellom den første delen av armen og x-aksen, vi vet vinkelen mellom del en og to av armen og vi vet vinkelen mellom del to og tre av armen.\n",
    "\n",
    "For å regne ut posisjonen til effektoren langs $x$-aksen så regner vi først ut posisjonen til enden av del en av armen langs $x$-aksen. Den posisjonen kan vi beskrive som\n",
    "$$\n",
    "\\begin{pmatrix}\n",
    "r_1 \\cos (\\theta_1) \\\\\n",
    "r_1 \\sin (\\theta_1)\n",
    "\\end{pmatrix}\n",
    "$$ \n",
    "hvor $r_1$ er lengden på del en av armen og $\\theta_1$ er vinkelen mellom del en av robotarmen og x-aksen. For å regne ut posisjonen til enden av del to av armen så legger vi til vektoren fra del en til del to. Dette kan beskrives som\n",
    "$$\n",
    "\\begin{pmatrix}\n",
    "r_1 \\cos (\\theta_1) \\\\\n",
    "r_1 \\sin (\\theta_1)\n",
    "\\end{pmatrix}\n",
    "+\\begin{pmatrix}\n",
    "r_2 \\cos (\\theta_1 + \\theta_2) \\\\\n",
    "r_2 \\sin (\\theta_1 + \\theta_2)\n",
    "\\end{pmatrix}\n",
    "$$\n",
    "\n",
    "hvor $r_2$ er lengden på del $2$ og $\\theta_2$ er vinkel mellom del $1$ og del $2$. Ved å fortsette denne argumentasjonsrekken så kan vi altså beskrive posisjoneni xy-planet til enden av robotarmen ved følgende uttrykk.\n",
    "\n",
    "$$\n",
    " \\begin{pmatrix}r_1\\cos(\\theta_1) + r_2\\cos(\\theta_1 + \\theta_2) + r_3\\cos(\\theta_1 + \\theta_2+\\theta_3) \\\\ r_1\\sin(\\theta_1) + r_2\\sin(\\theta_1 + \\theta_2) +r_3\\sin(\\theta_1 + \\theta_2+\\theta_3)\\end{pmatrix}\n",
    "$$\n",
    "\n",
    "hvor $r_3$ er lengden på del $3$ og $\\theta_3$ er vinkel mellom del $2$ og del $3$.\n",
    "\n",
    "Funksjonen kalt \"fremoverKinematikk\" definert i kodesnutten under, gjør nøyaktig denne utregningen, for et vilkårlig antall armer. Dvs, den tar inn to lister, en liste med vinkler og en liste med lengder. Listen med vinkler er vinkelen mellom hver robotarm. \n",
    "\n",
    "Funksjonen \"tegnRobot\" definert under, tar også som input en liste av vinkler og en liste av lengder, og bruker \"fremoverKinematikk\" for å regne ut posisjoner for leddene til roboten, og deretter tegner den roboten.\n",
    "\n",
    "Vi har laget et eksempel som tegner en robotarm med 2 armer.\n"
   ]
  },
  {
   "cell_type": "code",
   "execution_count": 43,
   "id": "3c435cf1",
   "metadata": {},
   "outputs": [
    {
     "data": {
      "image/png": "[encoded data removed]",
      "text/plain": [
       "<Figure size 640x480 with 1 Axes>"
      ]
     },
     "metadata": {},
     "output_type": "display_data"
    },
    {
     "data": {
      "image/png": "[encoded data removed]",
      "text/plain": [
       "<Figure size 640x480 with 1 Axes>"
      ]
     },
     "metadata": {},
     "output_type": "display_data"
    }
   ],
   "source": [
    "%reset -f\n",
    "\n",
    "import numpy as np\n",
    "import matplotlib.pyplot as plt\n",
    "\n",
    "# vinkler er vinklene som robotarmen er innstilt med\n",
    "# lengder er lengdene på robotarmene\n",
    "# funksjonen returnerer en liste som inneholder endepunktene til hver robotarm. Det siste endepunktet er effektoren\n",
    "def fremoverKinematikk(vinkler, lengder):\n",
    "    punkter = np.zeros((len(vinkler) + 1, 2))\n",
    "    vinkelSum = 0\n",
    "    punkter[0,0] = 0.0\n",
    "    punkter[0,1] = 0.0\n",
    "    for i in range(len(vinkler)):\n",
    "        vinkelSum += vinkler[i]\n",
    "        punkter[i+1,0] = punkter[i,0] + lengder[i] * np.cos(vinkelSum)\n",
    "        punkter[i+1,1] = punkter[i,1] + lengder[i] * np.sin(vinkelSum)\n",
    "    return punkter\n",
    "\n",
    "def tegnRobot(vinkler, lengder):\n",
    "    if len(vinkler) != len(lengder):\n",
    "        print(\"Du bruker ikke runForwardKI riktig\")\n",
    "    punkter = fremoverKinematikk(vinkler, lengder)\n",
    "    koblinger = np.array([[i, i+1] for i in range(len(vinkler))])\n",
    "    x = punkter[:,0].flatten()\n",
    "    y = punkter[:,1].flatten()\n",
    "    plt.plot(x[koblinger.T], y[koblinger.T], linestyle='-', color='y',\n",
    "            markerfacecolor='red', marker='o') \n",
    "    plt.show()\n",
    "\n",
    "lengder = np.array([2.0, 1.0])   # lengden på armene\n",
    "vinkler = np.array([0.0, 0.0])   # vinkler mellom armene (vinkel med x-akse for arm 0)\n",
    "    \n",
    "tegnRobot(vinkler, lengder)\n",
    "\n",
    "lengder = np.array([2.0, 1.0])   \n",
    "vinkler = np.array([0.0, np.pi/2.0])\n",
    "\n",
    "tegnRobot(vinkler, lengder)\n"
   ]
  },
  {
   "cell_type": "markdown",
   "id": "ae565d31",
   "metadata": {},
   "source": [
    "## Oppgave 4\n",
    "\n",
    "Kopier koden over og endre slik at den tegner en robotarm med tre armer. \n",
    "\n",
    "Alle delene av robotarmen skal ha lengde 1 og del en av armen skal være horisontal, del to av armen skal stå vertikalt oppover, og del tre av armen skal være horisontal og peke framover igjen. Illustrasjonen skal se ut som en trapp oppover til høyre.  (Husk at numpy leser vinkler i radianer, np.pi vil gi en god approksimasjon til pi.)"
   ]
  },
  {
   "cell_type": "code",
   "execution_count": 44,
   "id": "f8d808ba-8b96-4440-b977-047dd241ff05",
   "metadata": {},
   "outputs": [
    {
     "data": {
      "image/png": "[encoded data removed]",
      "text/plain": [
       "<Figure size 640x480 with 1 Axes>"
      ]
     },
     "metadata": {},
     "output_type": "display_data"
    }
   ],
   "source": [
    "#\n",
    "# Svaret på oppgaven skal legges inn her\n",
    "#\n",
    "lengder_oppgave_4 = np.array([1.0, 1.0, 1.0])   \n",
    "vinkler_oppgave_4 = np.array([0.0, np.pi/2.0, -np.pi/2.0 ])\n",
    "\n",
    "tegnRobot(vinkler_oppgave_4, lengder_oppgave_4)"
   ]
  },
  {
   "cell_type": "markdown",
   "id": "2d7c532e",
   "metadata": {},
   "source": [
    "# Del 4 Kinematikk bakover\n",
    "\n",
    "Denne gangen skal vi bruke det vi lærte tidligere og få programmet til å justere vinklene slik effektoren havner i et bestemt punkt, kun ved å endre vinkelen til armene. Dette er et mye vanskeligere problem.\n",
    "\n"
   ]
  },
  {
   "cell_type": "markdown",
   "id": "6ed46382",
   "metadata": {},
   "source": [
    "## Oppgave 5\n",
    "\n",
    "I dette eksempelet så har vi samme robotarmen med lengder $2$, $1$ og $1.5$. Vi vil finne ut av hvilke vinkler vi må bruke for at enden på armen skal havne i punktet (1.5,2.5). \n",
    "\n",
    "Dette kan vi gjøre med gradient descent ved å lage en funksjon som tar vinkelene og lengdene til robotarmen som input og som gir kvadratet av avstanden mellom posisjonen på effektoren og målet (1.5,2.5) som output. \n",
    "\n",
    "Når algoritmen starter så skal roboten ligge langs positiv $x$-akse.\n",
    "\n",
    "Toleransen skal være 0.001. Juster steglengde og max antall steg slik at du finner en så god løsning som mulig. Skriv ut steglengde og antall steg algoritmen bruker. Max antall steg skal ikke være over 50000. \n",
    "\n",
    "Lag et program som tegner robotarmen før beregningen starter og den beste løsningen du fant.\n"
   ]
  },
  {
   "cell_type": "code",
   "execution_count": 67,
   "id": "42c28cab",
   "metadata": {},
   "outputs": [
    {
     "data": {
      "image/png": "[encoded data removed]",
      "text/plain": [
       "<Figure size 640x480 with 1 Axes>"
      ]
     },
     "metadata": {},
     "output_type": "display_data"
    },
    {
     "name": "stdout",
     "output_type": "stream",
     "text": [
      "Algoritmen avsluttet etter 371 steg\n",
      "Med vinklene vinkler =  [0.02685504 0.7079509  1.55099982]  så har effektoren avstand  0.00038917565739091716 til målet \n"
     ]
    },
    {
     "data": {
      "image/png": "[encoded data removed]",
      "text/plain": [
       "<Figure size 640x480 with 1 Axes>"
      ]
     },
     "metadata": {},
     "output_type": "display_data"
    }
   ],
   "source": [
    "%reset -f\n",
    "\n",
    "import numpy as np\n",
    "import matplotlib.pyplot as plt\n",
    "\n",
    "abs = np.linalg.norm\n",
    "\n",
    "def fremoverKinematikk(vinkler, lengder):\n",
    "    punkter = np.zeros((len(vinkler) + 1, 2))\n",
    "    vinkelSum = 0\n",
    "    punkter[0,0] = 0.0\n",
    "    punkter[0,1] = 0.0\n",
    "    for i in range(len(vinkler)):\n",
    "        vinkelSum = vinkelSum + vinkler[i]\n",
    "        punkter[i+1,0] = punkter[i,0] + lengder[i] * np.cos(vinkelSum)\n",
    "        punkter[i+1,1] = punkter[i,1] + lengder[i] * np.sin(vinkelSum)\n",
    "    return punkter\n",
    "\n",
    "def tegnRobot(vinkler, lengder):\n",
    "    if len(vinkler) != len(lengder):\n",
    "        print(\"Du bruker ikke tegnRobot riktig\")\n",
    "    punkter = fremoverKinematikk(vinkler, lengder)\n",
    "    koblinger = np.array([[i, i+1] for i in range(len(vinkler))])\n",
    "    x = punkter[:,0].flatten()\n",
    "    y = punkter[:,1].flatten()\n",
    "    plt.plot(x[koblinger.T], y[koblinger.T], linestyle='-', color='y',\n",
    "            markerfacecolor='red', marker='o') \n",
    "    plt.show()\n",
    "    \n",
    "    \n",
    "# *************************************************\n",
    "# Dette må dere implementere\n",
    "#\n",
    "\n",
    "\n",
    "# Funksjonen regner ut kvadratet av avstanden fra effektoren (med vinkler p) og målet vi ønsker å nå\n",
    "def f(p):\n",
    "    lengder=np.array([1.0, 2.0, 1.5])\n",
    "    effektoren = fremoverKinematikk(p, lengder)[-1]\n",
    "    mål=np.array([1.5, 2.5])\n",
    "    return np.linalg.norm(mål-effektoren)**2\n",
    "\n",
    "    #return 1.0  # Fjern denne linjen før dere starter\n",
    "# \n",
    "#\n",
    "# ***************************************************\n",
    "    \n",
    "def diff(f, p, i, delta):\n",
    "    q1 = np.copy(p) \n",
    "    q1[i] -= delta\n",
    "    q2 = np.copy(p) \n",
    "    q2[i] += delta\n",
    "    return (f(q2) - f(q1))  / (2*delta)\n",
    "\n",
    "def gradient(f, p, delta):\n",
    "    grad = [diff(f,p,i,delta) for i in range(len(p))]\n",
    "    return np.array(grad)    \n",
    "\n",
    "lengder = np.array([1.0, 2.0, 1.5])\n",
    "\n",
    "def algortime(f=f, lengder=lengder, max=1000):        \n",
    "    # **************************************************\n",
    "    # Dere må gjøre noen fornuftige valg for tallene her\n",
    "    #\n",
    "    delta = 1.0    \n",
    "    toleranse = 0.001            \n",
    "    #lengder = np.array([1.0, 2.0, 1.5])\n",
    "    p = np.array([1.0,1.0,1.0])\n",
    "    maxAntallSteg = max\n",
    "    stegLengde = 2*np.pi/maxAntallSteg\n",
    "    #\n",
    "    #\n",
    "    # ***************************************************\n",
    "\n",
    "    # Vi tegner robotarmen før algoritmen starter\n",
    "    vinkler = p\n",
    "    tegnRobot(vinkler, lengder)\n",
    "\n",
    "\n",
    "    feil = gradient(f, p, delta)\n",
    "    antallSteg = 1\n",
    "\n",
    "    while abs(feil) > toleranse and maxAntallSteg > antallSteg:\n",
    "        nyGradient = gradient(f,p,delta)\n",
    "        p = p - stegLengde * nyGradient\n",
    "        feil = nyGradient\n",
    "        antallSteg = antallSteg + 1\n",
    "\n",
    "    if maxAntallSteg <= antallSteg:\n",
    "        print(\"Algoritmen avsluttet da den brukte for lang tid\")\n",
    "        #print(\"rekursjon\")\n",
    "        #algoritme(max=maxAntallSteg+1000)\n",
    "\n",
    "    else:\n",
    "        print(\"Algoritmen avsluttet etter\", antallSteg, \"steg\")\n",
    "\n",
    "    print(\"Med vinklene vinkler = \",p, \" så har effektoren avstand \", np.sqrt(f(p)), \"til målet \")\n",
    "\n",
    "    # Vi tegner etter at algoritmen blir kjørt\n",
    "    vinkler = p\n",
    "    tegnRobot(vinkler, lengder)\n",
    "    \n",
    "\n",
    "\n",
    "algortime()\n",
    "\n",
    "\n",
    "\n"
   ]
  },
  {
   "cell_type": "code",
   "execution_count": 47,
   "id": "50301070",
   "metadata": {},
   "outputs": [],
   "source": [
    "#\n",
    "# Svaret på oppgaven skal legges inn her\n",
    "#"
   ]
  },
  {
   "cell_type": "markdown",
   "id": "b613a176",
   "metadata": {},
   "source": [
    "## Oppgave 6\n",
    "\n",
    "Vi er gitt en robotarm i xy-planet som i eksempelet over med tre deler. Del en av armen har lengde 1, del to av armen har lengde 2 og del tre av armen har lengde 3.\n",
    "\n",
    "Bruk gradient descent til å finne en liste over vinkler slik at effektoren havner i punktet (3.5,1.0).\n",
    "\n",
    "Kopier og endre på svaret ditt fra Oppgave 6. Toleransen skal være 0.001. Juster steglengde og max antall steg for å finne en god løsning. Max antall steg skal være mindre enn 50000.\n",
    "\n",
    "Skriv ut steglengde, antall steg som ble brukt, og avstanden fra effektoren til målet (3.5, 1.0).\n",
    "\n",
    "Når du starter så skal robotarmen ligge langs positiv $y$-akse.\n",
    "\n",
    "Lag et program som tegner roboten før beregningen starter og den beste løsningen du fant.\n"
   ]
  },
  {
   "cell_type": "code",
   "execution_count": 78,
   "id": "5bf03d9d",
   "metadata": {},
   "outputs": [
    {
     "data": {
      "image/png": "[encoded data removed]",
      "text/plain": [
       "<Figure size 640x480 with 1 Axes>"
      ]
     },
     "metadata": {},
     "output_type": "display_data"
    },
    {
     "name": "stdout",
     "output_type": "stream",
     "text": [
      "Algoritmen avsluttet etter 222 steg\n",
      "Med vinklene vinkler =  [-0.75058527  0.16375771  1.78093362]  så har effektoren avstand  0.0002725628047941765 til målet \n"
     ]
    },
    {
     "data": {
      "image/png": "[encoded data removed]",
      "text/plain": [
       "<Figure size 640x480 with 1 Axes>"
      ]
     },
     "metadata": {},
     "output_type": "display_data"
    }
   ],
   "source": [
    "#\n",
    "# Svaret på oppgaven skal legges inn her\n",
    "#\n",
    "\n",
    "def f_oppgave_6(p):\n",
    "    lengder=np.array([1.0, 2.0, 3.0])\n",
    "    effektoren = fremoverKinematikk(p, lengder)[-1]\n",
    "    mål=np.array([3.5, 1.0])\n",
    "    return np.linalg.norm(mål-effektoren)**2\n",
    "\n",
    "algortime(f=f_oppgave_6, lengder=np.array([1.0, 2.0, 3.0]))"
   ]
  },
  {
   "cell_type": "markdown",
   "id": "5c3b7804",
   "metadata": {},
   "source": [
    "## Oppgave 7\n",
    "\n",
    "Vi er gitt en robotarm i xy-planet som i de tidligere oppgavene med tre deler. Men, leddet mellom del 2 og del 3 er låst i 30 grader. Del en av armen har lengde 3, del to av armen har lengde 1 og del tre av armen har lengde 2.\n",
    "\n",
    "Kopier og endre på koden fra oppgave 5/6. Toleransen skal være 0.001. Juster steglengde og max antall steg for å finne en god løsning. Max antall steg skal være mindre enn 100000. Bruk samme mål for effektoren som i oppgave 6, dvs. (1.5,2.5).\n",
    "\n",
    "Skriv ut steglengde, antall steg som ble brukt, og avstanden fra effektoren til målet i løsningen.\n",
    "\n",
    "Når du starter så skal del 1 og del 2 av robotarmen ligge i første kvadrant langs linjen $y=x$.\n",
    "\n",
    "Lag et program som tegner roboten før beregningen starter og den beste løsningen du fant.\n"
   ]
  },
  {
   "cell_type": "code",
   "execution_count": 81,
   "id": "c5718ca8-c477-40fd-989a-409be1d718b4",
   "metadata": {},
   "outputs": [
    {
     "data": {
      "image/png": "[encoded data removed]",
      "text/plain": [
       "<Figure size 640x480 with 1 Axes>"
      ]
     },
     "metadata": {},
     "output_type": "display_data"
    },
    {
     "name": "stdout",
     "output_type": "stream",
     "text": [
      "Algoritmen avsluttet etter 638 steg\n",
      "Med vinklene vinkler =  [1.4515857  2.23195869 2.61799388]  så har effektoren avstand  0.0004715803063995757 til målet \n"
     ]
    },
    {
     "data": {
      "image/png": "[encoded data removed]",
      "text/plain": [
       "<Figure size 640x480 with 1 Axes>"
      ]
     },
     "metadata": {},
     "output_type": "display_data"
    }
   ],
   "source": [
    "#\n",
    "# Svaret på oppgaven skal legges inn her\n",
    "#\n",
    "def f_oppgave_7(p):\n",
    "    p[2] = np.pi*5/6\n",
    "    lengder=np.array([3.0, 1.0, 2.0])\n",
    "    effektoren = fremoverKinematikk(p, lengder)[-1]\n",
    "    mål=np.array([1.5, 2.5])\n",
    "    return np.linalg.norm(mål-effektoren)**2\n",
    "\n",
    "algortime(f=f_oppgave_7, lengder=np.array([3.0, 1.0, 2.0]))"
   ]
  },
  {
   "cell_type": "markdown",
   "id": "afc2befb-4392-44be-9cc2-52ae4cfc3292",
   "metadata": {},
   "source": [
    "# En kommentar helt til slutt\n",
    "\n",
    "Å styre en robot er komplisert, og vi har gitt en veldig enkel fremgangsmåte her, som nok er litt for enkel for praktisk bruk. For det første så lever roboter stort sett i en 3 dimensjonal verden. Dette gjør matematikken litt mer komplisert. De har gjerne ikke full frihet i bevegelsene, slik at definisjonsområdet til problemet blir svært viktig. Det er mange andre ting som oppstår som vi ikke har diskutert.\n",
    "\n",
    "Men uansett, mer robuste algoritmer for styring av roboter bruker ting som gradienter, Hessematriser, Jacobimatriser, kulekoordinater og andre ting fra dette kurset.\n"
   ]
  }
 ],
 "metadata": {
  "kernelspec": {
   "display_name": "Python 3",
   "language": "python",
   "name": "python3"
  },
  "language_info": {
   "codemirror_mode": {
    "name": "ipython",
    "version": 3
   },
   "file_extension": ".py",
   "mimetype": "text/x-python",
   "name": "python",
   "nbconvert_exporter": "python",
   "pygments_lexer": "ipython3",
   "version": "3.11.5"
  }
 },
 "nbformat": 4,
 "nbformat_minor": 5
}
