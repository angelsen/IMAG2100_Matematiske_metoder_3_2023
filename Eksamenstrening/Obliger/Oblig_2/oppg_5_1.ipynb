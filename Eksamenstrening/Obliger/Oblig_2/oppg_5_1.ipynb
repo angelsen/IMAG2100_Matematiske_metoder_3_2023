{
 "cells": [
  {
   "cell_type": "code",
   "execution_count": 4,
   "metadata": {},
   "outputs": [
    {
     "data": {
      "text/latex": [
       "$\\displaystyle \\sqrt{25 \\sin^{2}{\\left(t \\right)} + 25 \\cos^{2}{\\left(t \\right)} + 36}$"
      ],
      "text/plain": [
       "sqrt(25*sin(t)**2 + 25*cos(t)**2 + 36)"
      ]
     },
     "metadata": {},
     "output_type": "display_data"
    },
    {
     "name": "stdout",
     "output_type": "stream",
     "text": [
      "sqrt(25*sin(t)**2 + 25*cos(t)**2 + 36)\n"
     ]
    }
   ],
   "source": [
    "import sympy as sp\n",
    "\n",
    "t = sp.symbols('t')\n",
    "\n",
    "x = 5*sp.sin(t)\n",
    "y = 5*sp.cos(t)\n",
    "z = 6*t\n",
    "\n",
    "x_dt = sp.diff(x, t)\n",
    "y_dt = sp.diff(y, t)\n",
    "z_dt = sp.diff(z, t)\n",
    "\n",
    "f_t = sp.sqrt(x_dt**2+y_dt**2+z_dt**2)\n",
    "\n",
    "display(f_t)\n",
    "print(f_t)"
   ]
  },
  {
   "cell_type": "code",
   "execution_count": 6,
   "metadata": {},
   "outputs": [
    {
     "data": {
      "text/latex": [
       "$\\displaystyle 4 \\sqrt{25 \\cos^{2}{\\left(4 \\right)} + 25 \\sin^{2}{\\left(4 \\right)} + 36}$"
      ],
      "text/plain": [
       "4*sqrt(25*cos(4)**2 + 25*sin(4)**2 + 36)"
      ]
     },
     "metadata": {},
     "output_type": "display_data"
    },
    {
     "name": "stdout",
     "output_type": "stream",
     "text": [
      "4*sqrt(25*cos(4)**2 + 25*sin(4)**2 + 36)\n"
     ]
    }
   ],
   "source": [
    "buelengde = sp.integrate(f_t, (t, 0, 4))\n",
    "\n",
    "display(buelengde)\n",
    "print(buelengde.doit())"
   ]
  }
 ],
 "metadata": {
  "kernelspec": {
   "display_name": "Python 3",
   "language": "python",
   "name": "python3"
  },
  "language_info": {
   "codemirror_mode": {
    "name": "ipython",
    "version": 3
   },
   "file_extension": ".py",
   "mimetype": "text/x-python",
   "name": "python",
   "nbconvert_exporter": "python",
   "pygments_lexer": "ipython3",
   "version": "3.11.6"
  }
 },
 "nbformat": 4,
 "nbformat_minor": 2
}
