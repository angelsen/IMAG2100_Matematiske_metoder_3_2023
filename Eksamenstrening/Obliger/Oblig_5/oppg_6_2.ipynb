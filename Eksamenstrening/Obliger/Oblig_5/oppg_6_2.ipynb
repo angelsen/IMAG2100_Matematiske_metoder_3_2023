{
 "cells": [
  {
   "cell_type": "code",
   "execution_count": 4,
   "metadata": {},
   "outputs": [
    {
     "data": {
      "text/latex": [
       "$\\displaystyle 9 \\pi \\left(\\sqrt{2} + 2\\right)$"
      ],
      "text/plain": [
       "9*pi*(sqrt(2) + 2)"
      ]
     },
     "metadata": {},
     "output_type": "display_data"
    },
    {
     "name": "stdout",
     "output_type": "stream",
     "text": [
      "9*pi*(sqrt(2) + 2)\n"
     ]
    }
   ],
   "source": [
    "import sympy as sp\n",
    "\n",
    "# Define the spherical coordinate symbols\n",
    "rho, theta, phi = sp.symbols('rho theta phi')\n",
    "\n",
    "# Jacobian for spherical coordinates\n",
    "J = rho**2 * sp.sin(phi)\n",
    "\n",
    "# Limits for rho, theta, and phi\n",
    "rho_from, rho_to = 0, 3\n",
    "theta_from, theta_to = 0, 2 * sp.pi\n",
    "phi_from, phi_to = sp.pi / 4, sp.pi\n",
    "\n",
    "# Mass integral in spherical coordinates\n",
    "m = sp.integrate(J, (rho, rho_from, rho_to), (theta, theta_from, theta_to), (phi, phi_from, phi_to))\n",
    "\n",
    "# Center of mass coordinates\n",
    "x_cm = sp.integrate(rho**3 * sp.sin(phi)**2 * sp.cos(theta) * J, (rho, rho_from, rho_to), (theta, theta_from, theta_to), (phi, phi_from, phi_to)) / m\n",
    "y_cm = sp.integrate(rho**3 * sp.sin(phi)**2 * sp.sin(theta) * J, (rho, rho_from, rho_to), (theta, theta_from, theta_to), (phi, phi_from, phi_to)) / m\n",
    "z_cm = sp.integrate(rho**3 * sp.sin(phi) * sp.cos(phi) * J, (rho, rho_from, rho_to), (theta, theta_from, theta_to), (phi, phi_from, phi_to)) / m\n",
    "\n",
    "display(m.simplify())\n",
    "print(m.simplify())"
   ]
  }
 ],
 "metadata": {
  "kernelspec": {
   "display_name": "Python 3",
   "language": "python",
   "name": "python3"
  },
  "language_info": {
   "codemirror_mode": {
    "name": "ipython",
    "version": 3
   },
   "file_extension": ".py",
   "mimetype": "text/x-python",
   "name": "python",
   "nbconvert_exporter": "python",
   "pygments_lexer": "ipython3",
   "version": "3.11.6"
  }
 },
 "nbformat": 4,
 "nbformat_minor": 2
}
