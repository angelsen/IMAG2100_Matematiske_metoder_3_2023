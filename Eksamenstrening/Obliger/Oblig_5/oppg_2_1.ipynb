{
 "cells": [
  {
   "cell_type": "code",
   "execution_count": 1,
   "metadata": {},
   "outputs": [
    {
     "data": {
      "text/latex": [
       "$\\displaystyle r \\left(- r^{2} \\sin^{2}{\\left(\\theta \\right)} - r^{2} \\cos^{2}{\\left(\\theta \\right)} + 16\\right)$"
      ],
      "text/plain": [
       "r*(-r**2*sin(theta)**2 - r**2*cos(theta)**2 + 16)"
      ]
     },
     "metadata": {},
     "output_type": "display_data"
    },
    {
     "name": "stdout",
     "output_type": "stream",
     "text": [
      "r*(-r**2*sin(theta)**2 - r**2*cos(theta)**2 + 16)\n"
     ]
    }
   ],
   "source": [
    "import sympy as sp\n",
    "\n",
    "r, t = sp.symbols('r theta')\n",
    "\n",
    "x = r*sp.cos(t)\n",
    "y = r*sp.sin(t)\n",
    "z = 16 - x**2 - y**2\n",
    "\n",
    "f_rt = z*r\n",
    "display(f_rt)\n",
    "print(f_rt)"
   ]
  }
 ],
 "metadata": {
  "kernelspec": {
   "display_name": "Python 3",
   "language": "python",
   "name": "python3"
  },
  "language_info": {
   "codemirror_mode": {
    "name": "ipython",
    "version": 3
   },
   "file_extension": ".py",
   "mimetype": "text/x-python",
   "name": "python",
   "nbconvert_exporter": "python",
   "pygments_lexer": "ipython3",
   "version": "3.11.6"
  }
 },
 "nbformat": 4,
 "nbformat_minor": 2
}
