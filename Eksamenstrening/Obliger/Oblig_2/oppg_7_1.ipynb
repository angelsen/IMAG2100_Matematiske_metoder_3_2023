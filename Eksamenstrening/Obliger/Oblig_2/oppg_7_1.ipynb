{
 "cells": [
  {
   "cell_type": "code",
   "execution_count": 10,
   "metadata": {},
   "outputs": [
    {
     "data": {
      "text/latex": [
       "$\\displaystyle e^{3 \\theta}$"
      ],
      "text/plain": [
       "exp(3*theta)"
      ]
     },
     "metadata": {},
     "output_type": "display_data"
    },
    {
     "data": {
      "text/latex": [
       "$\\displaystyle \\sqrt{\\left(- e^{3 \\theta} \\sin{\\left(\\theta \\right)} + 3 e^{3 \\theta} \\cos{\\left(\\theta \\right)}\\right)^{2} + \\left(3 e^{3 \\theta} \\sin{\\left(\\theta \\right)} + e^{3 \\theta} \\cos{\\left(\\theta \\right)}\\right)^{2}}$"
      ],
      "text/plain": [
       "sqrt((-exp(3*theta)*sin(theta) + 3*exp(3*theta)*cos(theta))**2 + (3*exp(3*theta)*sin(theta) + exp(3*theta)*cos(theta))**2)"
      ]
     },
     "metadata": {},
     "output_type": "display_data"
    },
    {
     "name": "stdout",
     "output_type": "stream",
     "text": [
      "sqrt((-exp(3*theta)*sin(theta) + 3*exp(3*theta)*cos(theta))**2 + (3*exp(3*theta)*sin(theta) + exp(3*theta)*cos(theta))**2)\n"
     ]
    }
   ],
   "source": [
    "import sympy as sp\n",
    "\n",
    "theta = sp.symbols('theta')\n",
    "\n",
    "r = sp.exp(3*theta)\n",
    "display(r)\n",
    "\n",
    "x = r*sp.cos(theta)\n",
    "y = r*sp.sin(theta)\n",
    "\n",
    "x_dtheta = sp.diff(x, theta)\n",
    "y_dtheta = sp.diff(y, theta)\n",
    "\n",
    "f_theta = sp.sqrt(x_dtheta**2+y_dtheta**2)\n",
    "\n",
    "display(f_theta)\n",
    "print(f_theta)"
   ]
  },
  {
   "cell_type": "code",
   "execution_count": 14,
   "metadata": {},
   "outputs": [
    {
     "data": {
      "text/latex": [
       "$\\displaystyle - \\frac{\\sqrt{10}}{3} + \\frac{\\sqrt{10} \\sqrt{\\cos^{2}{\\left(2 \\right)} + \\sin^{2}{\\left(2 \\right)}} e^{6}}{3}$"
      ],
      "text/plain": [
       "-sqrt(10)/3 + sqrt(10)*sqrt(cos(2)**2 + sin(2)**2)*exp(6)/3"
      ]
     },
     "metadata": {},
     "output_type": "display_data"
    },
    {
     "name": "stdout",
     "output_type": "stream",
     "text": [
      "-sqrt(10)/3 + sqrt(10)*sqrt(cos(2)**2 + sin(2)**2)*exp(6)/3\n"
     ]
    }
   ],
   "source": [
    "buelengde = sp.integrate(f_theta, (theta, 0, 2))\n",
    "\n",
    "display(buelengde)\n",
    "print(buelengde)"
   ]
  },
  {
   "cell_type": "code",
   "execution_count": 19,
   "metadata": {},
   "outputs": [
    {
     "data": {
      "text/latex": [
       "$\\displaystyle \\int\\limits_{0}^{2} \\sqrt{10} \\sqrt{e^{6 \\theta}}\\, d\\theta$"
      ],
      "text/plain": [
       "Integral(sqrt(10)*sqrt(exp(6*theta)), (theta, 0, 2))"
      ]
     },
     "metadata": {},
     "output_type": "display_data"
    },
    {
     "name": "stdout",
     "output_type": "stream",
     "text": [
      "-sqrt(10)/3 + sqrt(10)*exp(6)/3\n"
     ]
    }
   ],
   "source": [
    "buelengde_enkel = sp.Integral(sp.sqrt(r**2 + sp.diff(r,theta)**2), (theta, 0, 2))\n",
    "\n",
    "display(buelengde_enkel)\n",
    "print(buelengde_enkel.doit())"
   ]
  },
  {
   "cell_type": "code",
   "execution_count": 29,
   "metadata": {},
   "outputs": [
    {
     "data": {
      "text/latex": [
       "$\\displaystyle \\int\\limits_{0}^{\\pi}\\int\\limits_{0}^{2 \\pi}\\int\\limits_{0}^{a} \\rho^{2} \\sin{\\left(\\phi \\right)}\\, d\\rho\\, d\\theta\\, d\\phi$"
      ],
      "text/plain": [
       "Integral(rho**2*sin(phi), (rho, 0, a), (theta, 0, 2*pi), (phi, 0, pi))"
      ]
     },
     "metadata": {},
     "output_type": "display_data"
    },
    {
     "data": {
      "text/latex": [
       "$\\displaystyle \\frac{4 \\pi a^{3}}{3}$"
      ],
      "text/plain": [
       "4*pi*a**3/3"
      ]
     },
     "metadata": {},
     "output_type": "display_data"
    }
   ],
   "source": [
    "a, rho, theta, phi = sp.symbols('a rho theta phi')\n",
    "\n",
    "\n",
    "volumintegral = sp.Integral(rho**2*sp.sin(phi), (rho, 0, a), (theta, 0, 2*sp.pi), (phi, 0, sp.pi))\n",
    "display(volumintegral)\n",
    "display(volumintegral.doit())\n",
    "\n"
   ]
  },
  {
   "cell_type": "code",
   "execution_count": null,
   "metadata": {},
   "outputs": [],
   "source": []
  }
 ],
 "metadata": {
  "kernelspec": {
   "display_name": "Python 3",
   "language": "python",
   "name": "python3"
  },
  "language_info": {
   "codemirror_mode": {
    "name": "ipython",
    "version": 3
   },
   "file_extension": ".py",
   "mimetype": "text/x-python",
   "name": "python",
   "nbconvert_exporter": "python",
   "pygments_lexer": "ipython3",
   "version": "3.11.6"
  }
 },
 "nbformat": 4,
 "nbformat_minor": 2
}
