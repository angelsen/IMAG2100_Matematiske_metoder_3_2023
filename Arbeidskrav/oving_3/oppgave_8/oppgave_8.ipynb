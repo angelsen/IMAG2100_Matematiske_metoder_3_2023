{
 "cells": [
  {
   "cell_type": "code",
   "execution_count": 12,
   "metadata": {},
   "outputs": [
    {
     "data": {
      "text/latex": [
       "$\\displaystyle e^{- x^{2} - y^{2} - z^{2}}$"
      ],
      "text/plain": [
       "exp(-x**2 - y**2 - z**2)"
      ]
     },
     "execution_count": 12,
     "metadata": {},
     "output_type": "execute_result"
    }
   ],
   "source": [
    "import sympy as sp\n",
    "\n",
    "\n",
    "x, y, z = sp.symbols('x y z')\n",
    "\n",
    "T_xyz = sp.exp(-x**2-y**2-z**2)\n",
    "\n",
    "T_xyz"
   ]
  },
  {
   "cell_type": "code",
   "execution_count": 13,
   "metadata": {},
   "outputs": [
    {
     "name": "stdout",
     "output_type": "stream",
     "text": [
      "-2*x*exp(-x**2 - y**2 - z**2)\n",
      "-2*y*exp(-x**2 - y**2 - z**2)\n",
      "-2*z*exp(-x**2 - y**2 - z**2)\n"
     ]
    }
   ],
   "source": [
    "T_x = sp.Derivative(T_xyz, x, evaluate=True)\n",
    "print(T_x)\n",
    "\n",
    "T_y = sp.Derivative(T_xyz, y, evaluate=True)\n",
    "print(T_y)\n",
    "\n",
    "T_z = sp.Derivative(T_xyz, z, evaluate=True)\n",
    "print(T_z)"
   ]
  },
  {
   "cell_type": "code",
   "execution_count": 14,
   "metadata": {},
   "outputs": [
    {
     "name": "stdout",
     "output_type": "stream",
     "text": [
      "-10*exp(-38)\n",
      "-6*exp(-38)\n",
      "-4*exp(-38)\n"
     ]
    }
   ],
   "source": [
    "# x: 5, y: 3, z: 2\n",
    "grad_x = T_x.subs({x: 5, y: 3, z: 2})\n",
    "print(grad_x)\n",
    "\n",
    "grad_y = T_y.subs({x: 5, y: 3, z: 2})\n",
    "print(grad_y)\n",
    "\n",
    "grad_z = T_z.subs({x: 5, y: 3, z: 2})\n",
    "print(grad_z)"
   ]
  },
  {
   "cell_type": "code",
   "execution_count": 15,
   "metadata": {},
   "outputs": [
    {
     "name": "stdout",
     "output_type": "stream",
     "text": [
      "Matrix([[-10*exp(-38)], [-6*exp(-38)], [-4*exp(-38)]])\n",
      "Matrix([[-5*sqrt(38)/38], [-3*sqrt(38)/38], [-sqrt(38)/19]])\n"
     ]
    }
   ],
   "source": [
    "gradient_vektor = sp.Matrix((grad_x, grad_y, grad_z))\n",
    "print(gradient_vektor)\n",
    "\n",
    "retnings_vektor = gradient_vektor.normalized()\n",
    "print(retnings_vektor)"
   ]
  },
  {
   "cell_type": "code",
   "execution_count": 16,
   "metadata": {},
   "outputs": [
    {
     "name": "stdout",
     "output_type": "stream",
     "text": [
      "exp(-38)\n"
     ]
    }
   ],
   "source": [
    "x_1, y_1, z_1 = 5, 3, 2\n",
    "\n",
    "a = T_xyz.subs({x: x_1, y: y_1, z: z_1})\n",
    "\n",
    "print(a)"
   ]
  },
  {
   "cell_type": "code",
   "execution_count": 17,
   "metadata": {},
   "outputs": [
    {
     "name": "stdout",
     "output_type": "stream",
     "text": [
      "exp(-(-5 - 5*sqrt(38)/38)**2 - (-3 - 3*sqrt(38)/38)**2 - (-2 - sqrt(38)/19)**2)\n"
     ]
    }
   ],
   "source": [
    "x_2, y_2, z_2 = retnings_vektor\n",
    "\n",
    "b = T_xyz.subs({x: x_2 - x_1, y: y_2 - y_1, z:z_2 - z_1})\n",
    "\n",
    "print(b)\n"
   ]
  },
  {
   "cell_type": "code",
   "execution_count": 19,
   "metadata": {},
   "outputs": [
    {
     "data": {
      "text/latex": [
       "$\\displaystyle \\frac{2 \\sqrt{38}}{e^{38}}$"
      ],
      "text/plain": [
       "2*sqrt(38)*exp(-38)"
      ]
     },
     "execution_count": 19,
     "metadata": {},
     "output_type": "execute_result"
    }
   ],
   "source": [
    "gradient_vektor.norm()"
   ]
  },
  {
   "cell_type": "code",
   "execution_count": 22,
   "metadata": {},
   "outputs": [
    {
     "name": "stdout",
     "output_type": "stream",
     "text": [
      "2*sqrt(38)*exp(-38)\n"
     ]
    }
   ],
   "source": [
    "print(gradient_vektor.dot(retnings_vektor))"
   ]
  }
 ],
 "metadata": {
  "kernelspec": {
   "display_name": "Python 3",
   "language": "python",
   "name": "python3"
  },
  "language_info": {
   "codemirror_mode": {
    "name": "ipython",
    "version": 3
   },
   "file_extension": ".py",
   "mimetype": "text/x-python",
   "name": "python",
   "nbconvert_exporter": "python",
   "pygments_lexer": "ipython3",
   "version": "3.11.5"
  },
  "orig_nbformat": 4
 },
 "nbformat": 4,
 "nbformat_minor": 2
}
