{
 "cells": [
  {
   "cell_type": "code",
   "execution_count": 2,
   "metadata": {},
   "outputs": [
    {
     "data": {
      "text/latex": [
       "$\\displaystyle 9 \\pi$"
      ],
      "text/plain": [
       "9*pi"
      ]
     },
     "execution_count": 2,
     "metadata": {},
     "output_type": "execute_result"
    }
   ],
   "source": [
    "from sympy import symbols, integrate, sqrt, pi\n",
    "\n",
    "# Define the symbols\n",
    "r, z, theta = symbols('r z theta')\n",
    "\n",
    "# Integral for the volume of the cone\n",
    "cone_volume = integrate(r, (r, 0, z), (z, 0, 3), (theta, 0, 2*pi))\n",
    "\n",
    "# Integral for the volume of the upper part of the sphere\n",
    "upper_sphere_volume = integrate(r, (r, 0, sqrt(9 - z**2)), (z, 3, 3), (theta, 0, 2*pi))\n",
    "\n",
    "# Total mass (volume) of the solid\n",
    "total_mass = cone_volume + upper_sphere_volume\n",
    "total_mass  # Evaluate to a numerical value"
   ]
  }
 ],
 "metadata": {
  "kernelspec": {
   "display_name": "Python 3",
   "language": "python",
   "name": "python3"
  },
  "language_info": {
   "codemirror_mode": {
    "name": "ipython",
    "version": 3
   },
   "file_extension": ".py",
   "mimetype": "text/x-python",
   "name": "python",
   "nbconvert_exporter": "python",
   "pygments_lexer": "ipython3",
   "version": "3.11.6"
  }
 },
 "nbformat": 4,
 "nbformat_minor": 2
}
