{
 "cells": [
  {
   "cell_type": "code",
   "execution_count": 9,
   "metadata": {},
   "outputs": [],
   "source": [
    "import sympy as sp\n",
    "\n",
    "def velocity():\n",
    "    return sp.Matrix([-3, 1, 0])\n",
    "\n",
    "def acceleration():\n",
    "    return sp.Matrix([0, 1, -2])\n"
   ]
  },
  {
   "cell_type": "code",
   "execution_count": 17,
   "metadata": {},
   "outputs": [
    {
     "data": {
      "text/latex": [
       "$\\displaystyle \\left[\\begin{matrix}- \\frac{3 \\sqrt{10}}{10}\\\\\\frac{\\sqrt{10}}{10}\\\\0\\end{matrix}\\right]$"
      ],
      "text/plain": [
       "Matrix([\n",
       "[-3*sqrt(10)/10],\n",
       "[   sqrt(10)/10],\n",
       "[             0]])"
      ]
     },
     "execution_count": 17,
     "metadata": {},
     "output_type": "execute_result"
    }
   ],
   "source": [
    "def unit_tangent(vector: sp.Matrix):\n",
    "    return vector.normalized()\n",
    "\n",
    "unit_tangent_vector = unit_tangent(velocity())\n",
    "\n",
    "unit_tangent_vector"
   ]
  },
  {
   "cell_type": "code",
   "execution_count": 20,
   "metadata": {},
   "outputs": [
    {
     "data": {
      "text/latex": [
       "$\\displaystyle \\left[\\begin{matrix}- \\frac{2}{7}\\\\- \\frac{6}{7}\\\\- \\frac{3}{7}\\end{matrix}\\right]$"
      ],
      "text/plain": [
       "Matrix([\n",
       "[-2/7],\n",
       "[-6/7],\n",
       "[-3/7]])"
      ]
     },
     "execution_count": 20,
     "metadata": {},
     "output_type": "execute_result"
    }
   ],
   "source": [
    "def binormal(velocity: sp.Matrix, acceleration: sp.Matrix):\n",
    "    v_cross_a: sp.Matrix = velocity.cross(acceleration)\n",
    "    return v_cross_a.normalized()\n",
    "\n",
    "binormal_vector = binormal(velocity(), acceleration())\n",
    "\n",
    "binormal_vector\n"
   ]
  },
  {
   "cell_type": "code",
   "execution_count": 22,
   "metadata": {},
   "outputs": [
    {
     "data": {
      "text/latex": [
       "$\\displaystyle \\left[\\begin{matrix}\\frac{3 \\sqrt{10}}{70}\\\\\\frac{9 \\sqrt{10}}{70}\\\\- \\frac{2 \\sqrt{10}}{7}\\end{matrix}\\right]$"
      ],
      "text/plain": [
       "Matrix([\n",
       "[3*sqrt(10)/70],\n",
       "[9*sqrt(10)/70],\n",
       "[-2*sqrt(10)/7]])"
      ]
     },
     "execution_count": 22,
     "metadata": {},
     "output_type": "execute_result"
    }
   ],
   "source": [
    "def normal(binormal: sp.Matrix, unit_tangent: sp.Matrix()):\n",
    "    return binormal.cross(unit_tangent)\n",
    "\n",
    "normal_vector = normal(binormal_vector, unit_tangent_vector)\n",
    "\n",
    "normal_vector"
   ]
  },
  {
   "cell_type": "code",
   "execution_count": 23,
   "metadata": {},
   "outputs": [
    {
     "name": "stdout",
     "output_type": "stream",
     "text": [
      "Matrix([[3*sqrt(10)/70], [9*sqrt(10)/70], [-2*sqrt(10)/7]])\n"
     ]
    }
   ],
   "source": [
    "print(normal_vector)"
   ]
  },
  {
   "cell_type": "code",
   "execution_count": 27,
   "metadata": {},
   "outputs": [
    {
     "data": {
      "text/plain": [
       "['C',\n",
       " 'D',\n",
       " 'H',\n",
       " 'LDLdecomposition',\n",
       " 'LDLsolve',\n",
       " 'LUdecomposition',\n",
       " 'LUdecompositionFF',\n",
       " 'LUdecomposition_Simple',\n",
       " 'LUsolve',\n",
       " 'QRdecomposition',\n",
       " 'QRsolve',\n",
       " 'T',\n",
       " '__abs__',\n",
       " '__add__',\n",
       " '__annotations__',\n",
       " '__array__',\n",
       " '__array_priority__',\n",
       " '__class__',\n",
       " '__delattr__',\n",
       " '__dict__',\n",
       " '__dir__',\n",
       " '__doc__',\n",
       " '__eq__',\n",
       " '__format__',\n",
       " '__ge__',\n",
       " '__getattribute__',\n",
       " '__getitem__',\n",
       " '__getstate__',\n",
       " '__gt__',\n",
       " '__hash__',\n",
       " '__init__',\n",
       " '__init_subclass__',\n",
       " '__le__',\n",
       " '__len__',\n",
       " '__lt__',\n",
       " '__matmul__',\n",
       " '__mod__',\n",
       " '__module__',\n",
       " '__mul__',\n",
       " '__ne__',\n",
       " '__neg__',\n",
       " '__new__',\n",
       " '__pow__',\n",
       " '__radd__',\n",
       " '__reduce__',\n",
       " '__reduce_ex__',\n",
       " '__repr__',\n",
       " '__rmatmul__',\n",
       " '__rmul__',\n",
       " '__rsub__',\n",
       " '__setattr__',\n",
       " '__setitem__',\n",
       " '__sizeof__',\n",
       " '__slots__',\n",
       " '__str__',\n",
       " '__sub__',\n",
       " '__subclasshook__',\n",
       " '__truediv__',\n",
       " '__weakref__',\n",
       " '_class_priority',\n",
       " '_diff_wrt',\n",
       " '_dod_to_DomainMatrix',\n",
       " '_eval_Abs',\n",
       " '_eval_Mod',\n",
       " '_eval_add',\n",
       " '_eval_adjoint',\n",
       " '_eval_applyfunc',\n",
       " '_eval_as_real_imag',\n",
       " '_eval_atoms',\n",
       " '_eval_col_del',\n",
       " '_eval_col_insert',\n",
       " '_eval_col_join',\n",
       " '_eval_col_op_add_multiple_to_other_col',\n",
       " '_eval_col_op_multiply_col_by_const',\n",
       " '_eval_col_op_swap',\n",
       " '_eval_conjugate',\n",
       " '_eval_derivative',\n",
       " '_eval_det_bareiss',\n",
       " '_eval_det_berkowitz',\n",
       " '_eval_det_lu',\n",
       " '_eval_determinant',\n",
       " '_eval_diag',\n",
       " '_eval_extract',\n",
       " '_eval_eye',\n",
       " '_eval_free_symbols',\n",
       " '_eval_get_diag_blocks',\n",
       " '_eval_has',\n",
       " '_eval_inverse',\n",
       " '_eval_is_Identity',\n",
       " '_eval_is_anti_symmetric',\n",
       " '_eval_is_diagonal',\n",
       " '_eval_is_lower',\n",
       " '_eval_is_lower_hessenberg',\n",
       " '_eval_is_matrix_hermitian',\n",
       " '_eval_is_symbolic',\n",
       " '_eval_is_symmetric',\n",
       " '_eval_is_upper_hessenberg',\n",
       " '_eval_is_zero_matrix',\n",
       " '_eval_jordan_block',\n",
       " '_eval_matrix_exp_jblock',\n",
       " '_eval_matrix_log_jblock',\n",
       " '_eval_matrix_mul',\n",
       " '_eval_matrix_mul_elementwise',\n",
       " '_eval_matrix_rmul',\n",
       " '_eval_ones',\n",
       " '_eval_permute_cols',\n",
       " '_eval_permute_rows',\n",
       " '_eval_pow_by_cayley',\n",
       " '_eval_pow_by_recursion',\n",
       " '_eval_pow_by_recursion_dotprodsimp',\n",
       " '_eval_row_del',\n",
       " '_eval_row_insert',\n",
       " '_eval_row_join',\n",
       " '_eval_row_op_add_multiple_to_other_row',\n",
       " '_eval_row_op_multiply_row_by_const',\n",
       " '_eval_row_op_swap',\n",
       " '_eval_scalar_mul',\n",
       " '_eval_scalar_rmul',\n",
       " '_eval_simplify',\n",
       " '_eval_todok',\n",
       " '_eval_tolist',\n",
       " '_eval_trace',\n",
       " '_eval_transpose',\n",
       " '_eval_trigsimp',\n",
       " '_eval_values',\n",
       " '_eval_vec',\n",
       " '_eval_vech',\n",
       " '_eval_wilkinson',\n",
       " '_eval_zeros',\n",
       " '_flat_list_to_DomainMatrix',\n",
       " '_format_str',\n",
       " '_fromrep',\n",
       " '_handle_creation_inputs',\n",
       " '_handle_ndarray',\n",
       " '_has_nonnegative_diagonals',\n",
       " '_has_positive_diagonals',\n",
       " '_mat',\n",
       " '_matrix_pow_by_jordan_blocks',\n",
       " '_new',\n",
       " '_normalize_op_args',\n",
       " '_op_priority',\n",
       " '_repr_disabled',\n",
       " '_repr_latex_',\n",
       " '_repr_png_',\n",
       " '_repr_svg_',\n",
       " '_sage_',\n",
       " '_setitem',\n",
       " '_simplify',\n",
       " '_smat_to_DomainMatrix',\n",
       " '_sympify',\n",
       " '_unify_element_sympy',\n",
       " 'add',\n",
       " 'adjoint',\n",
       " 'adjugate',\n",
       " 'analytic_func',\n",
       " 'applyfunc',\n",
       " 'as_immutable',\n",
       " 'as_mutable',\n",
       " 'as_real_imag',\n",
       " 'atoms',\n",
       " 'berkowitz',\n",
       " 'berkowitz_charpoly',\n",
       " 'berkowitz_det',\n",
       " 'berkowitz_eigenvals',\n",
       " 'berkowitz_minors',\n",
       " 'bidiagonal_decomposition',\n",
       " 'bidiagonalize',\n",
       " 'charpoly',\n",
       " 'cholesky',\n",
       " 'cholesky_solve',\n",
       " 'cofactor',\n",
       " 'cofactorMatrix',\n",
       " 'cofactor_matrix',\n",
       " 'col',\n",
       " 'col_del',\n",
       " 'col_insert',\n",
       " 'col_join',\n",
       " 'col_op',\n",
       " 'col_swap',\n",
       " 'cols',\n",
       " 'columnspace',\n",
       " 'companion',\n",
       " 'condition_number',\n",
       " 'conjugate',\n",
       " 'connected_components',\n",
       " 'connected_components_decomposition',\n",
       " 'copy',\n",
       " 'copyin_list',\n",
       " 'copyin_matrix',\n",
       " 'cross',\n",
       " 'det',\n",
       " 'det_LU_decomposition',\n",
       " 'det_bareis',\n",
       " 'diag',\n",
       " 'diagonal',\n",
       " 'diagonal_solve',\n",
       " 'diagonalize',\n",
       " 'diff',\n",
       " 'doit',\n",
       " 'dot',\n",
       " 'dual',\n",
       " 'echelon_form',\n",
       " 'eigenvals',\n",
       " 'eigenvects',\n",
       " 'elementary_col_op',\n",
       " 'elementary_row_op',\n",
       " 'equals',\n",
       " 'evalf',\n",
       " 'exp',\n",
       " 'expand',\n",
       " 'extract',\n",
       " 'eye',\n",
       " 'fill',\n",
       " 'flat',\n",
       " 'free_symbols',\n",
       " 'gauss_jordan_solve',\n",
       " 'get_diag_blocks',\n",
       " 'has',\n",
       " 'hstack',\n",
       " 'integrate',\n",
       " 'inv',\n",
       " 'inv_mod',\n",
       " 'inverse_ADJ',\n",
       " 'inverse_BLOCK',\n",
       " 'inverse_CH',\n",
       " 'inverse_GE',\n",
       " 'inverse_LDL',\n",
       " 'inverse_LU',\n",
       " 'inverse_QR',\n",
       " 'irregular',\n",
       " 'is_Identity',\n",
       " 'is_Matrix',\n",
       " 'is_MatrixExpr',\n",
       " 'is_anti_symmetric',\n",
       " 'is_diagonal',\n",
       " 'is_diagonalizable',\n",
       " 'is_echelon',\n",
       " 'is_hermitian',\n",
       " 'is_indefinite',\n",
       " 'is_lower',\n",
       " 'is_lower_hessenberg',\n",
       " 'is_negative_definite',\n",
       " 'is_negative_semidefinite',\n",
       " 'is_nilpotent',\n",
       " 'is_positive_definite',\n",
       " 'is_positive_semidefinite',\n",
       " 'is_square',\n",
       " 'is_strongly_diagonally_dominant',\n",
       " 'is_symbolic',\n",
       " 'is_symmetric',\n",
       " 'is_upper',\n",
       " 'is_upper_hessenberg',\n",
       " 'is_weakly_diagonally_dominant',\n",
       " 'is_zero',\n",
       " 'is_zero_matrix',\n",
       " 'jacobian',\n",
       " 'jordan_block',\n",
       " 'jordan_cell',\n",
       " 'jordan_cells',\n",
       " 'jordan_form',\n",
       " 'key2bounds',\n",
       " 'key2ij',\n",
       " 'kind',\n",
       " 'left_eigenvects',\n",
       " 'limit',\n",
       " 'log',\n",
       " 'lower_triangular',\n",
       " 'lower_triangular_solve',\n",
       " 'minor',\n",
       " 'minorEntry',\n",
       " 'minorMatrix',\n",
       " 'minor_submatrix',\n",
       " 'multiply',\n",
       " 'multiply_elementwise',\n",
       " 'n',\n",
       " 'norm',\n",
       " 'normalized',\n",
       " 'nullspace',\n",
       " 'one',\n",
       " 'ones',\n",
       " 'orthogonalize',\n",
       " 'per',\n",
       " 'permute',\n",
       " 'permuteBkwd',\n",
       " 'permuteFwd',\n",
       " 'permute_cols',\n",
       " 'permute_rows',\n",
       " 'pinv',\n",
       " 'pinv_solve',\n",
       " 'pow',\n",
       " 'print_nonzero',\n",
       " 'project',\n",
       " 'rank',\n",
       " 'rank_decomposition',\n",
       " 'refine',\n",
       " 'replace',\n",
       " 'reshape',\n",
       " 'rmultiply',\n",
       " 'rot90',\n",
       " 'row',\n",
       " 'row_del',\n",
       " 'row_insert',\n",
       " 'row_join',\n",
       " 'row_op',\n",
       " 'row_swap',\n",
       " 'rows',\n",
       " 'rowspace',\n",
       " 'rref',\n",
       " 'shape',\n",
       " 'simplify',\n",
       " 'singular_value_decomposition',\n",
       " 'singular_values',\n",
       " 'solve',\n",
       " 'solve_least_squares',\n",
       " 'strongly_connected_components',\n",
       " 'strongly_connected_components_decomposition',\n",
       " 'subs',\n",
       " 'table',\n",
       " 'todod',\n",
       " 'todok',\n",
       " 'tolist',\n",
       " 'trace',\n",
       " 'transpose',\n",
       " 'upper_hessenberg_decomposition',\n",
       " 'upper_triangular',\n",
       " 'upper_triangular_solve',\n",
       " 'values',\n",
       " 'vec',\n",
       " 'vech',\n",
       " 'vstack',\n",
       " 'wilkinson',\n",
       " 'xreplace',\n",
       " 'zero',\n",
       " 'zeros',\n",
       " 'zip_row_op']"
      ]
     },
     "execution_count": 27,
     "metadata": {},
     "output_type": "execute_result"
    }
   ],
   "source": [
    "dir(sp.Matrix)"
   ]
  },
  {
   "cell_type": "code",
   "execution_count": 29,
   "metadata": {},
   "outputs": [
    {
     "name": "stdout",
     "output_type": "stream",
     "text": [
      "Help on function norm in module sympy.matrices.matrices:\n",
      "\n",
      "norm(self, ord=None)\n",
      "    Return the Norm of a Matrix or Vector.\n",
      "    \n",
      "    In the simplest case this is the geometric size of the vector\n",
      "    Other norms can be specified by the ord parameter\n",
      "    \n",
      "    \n",
      "    =====  ============================  ==========================\n",
      "    ord    norm for matrices             norm for vectors\n",
      "    =====  ============================  ==========================\n",
      "    None   Frobenius norm                2-norm\n",
      "    'fro'  Frobenius norm                - does not exist\n",
      "    inf    maximum row sum               max(abs(x))\n",
      "    -inf   --                            min(abs(x))\n",
      "    1      maximum column sum            as below\n",
      "    -1     --                            as below\n",
      "    2      2-norm (largest sing. value)  as below\n",
      "    -2     smallest singular value       as below\n",
      "    other  - does not exist              sum(abs(x)**ord)**(1./ord)\n",
      "    =====  ============================  ==========================\n",
      "    \n",
      "    Examples\n",
      "    ========\n",
      "    \n",
      "    >>> from sympy import Matrix, Symbol, trigsimp, cos, sin, oo\n",
      "    >>> x = Symbol('x', real=True)\n",
      "    >>> v = Matrix([cos(x), sin(x)])\n",
      "    >>> trigsimp( v.norm() )\n",
      "    1\n",
      "    >>> v.norm(10)\n",
      "    (sin(x)**10 + cos(x)**10)**(1/10)\n",
      "    >>> A = Matrix([[1, 1], [1, 1]])\n",
      "    >>> A.norm(1) # maximum sum of absolute values of A is 2\n",
      "    2\n",
      "    >>> A.norm(2) # Spectral norm (max of |Ax|/|x| under 2-vector-norm)\n",
      "    2\n",
      "    >>> A.norm(-2) # Inverse spectral norm (smallest singular value)\n",
      "    0\n",
      "    >>> A.norm() # Frobenius Norm\n",
      "    2\n",
      "    >>> A.norm(oo) # Infinity Norm\n",
      "    2\n",
      "    >>> Matrix([1, -2]).norm(oo)\n",
      "    2\n",
      "    >>> Matrix([-1, 2]).norm(-oo)\n",
      "    1\n",
      "    \n",
      "    See Also\n",
      "    ========\n",
      "    \n",
      "    normalized\n",
      "\n"
     ]
    }
   ],
   "source": [
    "help(sp.Matrix.norm)"
   ]
  },
  {
   "cell_type": "code",
   "execution_count": 31,
   "metadata": {},
   "outputs": [
    {
     "data": {
      "text/latex": [
       "$\\displaystyle \\frac{7 \\sqrt{10}}{100}$"
      ],
      "text/plain": [
       "7*sqrt(10)/100"
      ]
     },
     "execution_count": 31,
     "metadata": {},
     "output_type": "execute_result"
    }
   ],
   "source": [
    "def curvature(acceleration: sp.Matrix(), velocity: sp.Matrix()):\n",
    "    a_cross_v: acceleration.Matrix() = acceleration.cross(velocity)\n",
    "    \n",
    "    a_cross_v_norm = a_cross_v.norm()\n",
    "    velocity_norm = velocity.norm()\n",
    "\n",
    "    return a_cross_v_norm/velocity_norm**3\n",
    "\n",
    "K = curvature(acceleration(), velocity())\n",
    "\n",
    "K"
   ]
  },
  {
   "cell_type": "code",
   "execution_count": 32,
   "metadata": {},
   "outputs": [
    {
     "name": "stdout",
     "output_type": "stream",
     "text": [
      "7*sqrt(10)/100\n"
     ]
    }
   ],
   "source": [
    "print(K)"
   ]
  },
  {
   "cell_type": "code",
   "execution_count": 33,
   "metadata": {},
   "outputs": [],
   "source": [
    "def jerk():\n",
    "    return sp.Matrix((0, 1, 0))"
   ]
  },
  {
   "cell_type": "code",
   "execution_count": 34,
   "metadata": {},
   "outputs": [
    {
     "data": {
      "text/latex": [
       "$\\displaystyle - \\frac{6}{49}$"
      ],
      "text/plain": [
       "-6/49"
      ]
     },
     "execution_count": 34,
     "metadata": {},
     "output_type": "execute_result"
    }
   ],
   "source": [
    "def torsjon(velocity: sp.Matrix, acceleration: sp.Matrix, jerk: sp.Matrix):\n",
    "    v_cross_a: sp.Matrix = velocity.cross(acceleration)\n",
    "    v_cross_a_dot_jerk = sp.Matrix.dot = v_cross_a.dot(jerk)\n",
    "\n",
    "    v_cross_a_norm: sp.Matrix = v_cross_a.norm()\n",
    "\n",
    "    return v_cross_a_dot_jerk/v_cross_a_norm**2\n",
    "\n",
    "T = torsjon(velocity(), acceleration(), jerk())\n",
    "\n",
    "T"
   ]
  },
  {
   "cell_type": "code",
   "execution_count": 35,
   "metadata": {},
   "outputs": [
    {
     "name": "stdout",
     "output_type": "stream",
     "text": [
      "-6/49\n"
     ]
    }
   ],
   "source": [
    "print(T)"
   ]
  },
  {
   "cell_type": "code",
   "execution_count": 36,
   "metadata": {},
   "outputs": [],
   "source": [
    "import numpy as np\n",
    "import matplotlib.pyplot as plt"
   ]
  },
  {
   "cell_type": "code",
   "execution_count": 67,
   "metadata": {},
   "outputs": [
    {
     "data": {
      "image/png": "[encoded data removed]",
      "text/plain": [
       "<Figure size 640x480 with 1 Axes>"
      ]
     },
     "metadata": {},
     "output_type": "display_data"
    }
   ],
   "source": [
    "fig = plt.figure()\n",
    "\n",
    "# Specify the subplot as 3D projection\n",
    "ax = fig.add_subplot(projection='3d')\n",
    "\n",
    "# The starting point of the arrow is (0,0,0)\n",
    "# The arrow vector is (1,1,1)\n",
    "#ax.quiver(0, 0, 0, 1, 1, 1)\n",
    "\n",
    "point = sp.Matrix((0, 0, 0))\n",
    "\n",
    "def matrix2vector(matrix: sp.Matrix):\n",
    "    endpoint = tuple(matrix)\n",
    "\n",
    "    startpoint = tuple(0 for _ in endpoint)\n",
    "\n",
    "    return startpoint + endpoint\n",
    "\n",
    "ax.quiver(*matrix2vector(binormal_vector))\n",
    "\n",
    "#lim = [-1, 1]\n",
    "#\n",
    "#ax.set_xlim(lim)\n",
    "#ax.set_ylim(lim)\n",
    "#ax.set_zlim(lim)\n",
    "\n",
    "plt.show()"
   ]
  }
 ],
 "metadata": {
  "kernelspec": {
   "display_name": "Python 3",
   "language": "python",
   "name": "python3"
  },
  "language_info": {
   "codemirror_mode": {
    "name": "ipython",
    "version": 3
   },
   "file_extension": ".py",
   "mimetype": "text/x-python",
   "name": "python",
   "nbconvert_exporter": "python",
   "pygments_lexer": "ipython3",
   "version": "3.11.5"
  },
  "orig_nbformat": 4
 },
 "nbformat": 4,
 "nbformat_minor": 2
}
