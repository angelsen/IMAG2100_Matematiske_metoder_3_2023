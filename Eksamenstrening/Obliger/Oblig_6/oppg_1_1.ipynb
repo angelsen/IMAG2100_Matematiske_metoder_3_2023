{
 "cells": [
  {
   "cell_type": "code",
   "execution_count": 11,
   "metadata": {},
   "outputs": [
    {
     "data": {
      "text/latex": [
       "$\\displaystyle \\sqrt{3}$"
      ],
      "text/plain": [
       "sqrt(3)"
      ]
     },
     "metadata": {},
     "output_type": "display_data"
    },
    {
     "name": "stdout",
     "output_type": "stream",
     "text": [
      "sqrt(3)\n"
     ]
    },
    {
     "data": {
      "text/latex": [
       "$\\displaystyle 5 - y$"
      ],
      "text/plain": [
       "5 - y"
      ]
     },
     "metadata": {},
     "output_type": "display_data"
    },
    {
     "name": "stdout",
     "output_type": "stream",
     "text": [
      "5 - y\n"
     ]
    }
   ],
   "source": [
    "import sympy as sp\n",
    "\n",
    "x, y = sp.symbols('x y')\n",
    "\n",
    "z = 5 - x - y\n",
    "\n",
    "T_x = sp.Matrix([\n",
    "    1, 0, z.diff(x)\n",
    "])\n",
    "\n",
    "T_y = sp.Matrix([\n",
    "    0, 1, z.diff(y)\n",
    "])\n",
    "\n",
    "f_xy = T_x.cross(T_y).norm()\n",
    "\n",
    "display(f_xy)\n",
    "print(f_xy)\n",
    "\n",
    "b_1 = sp.solve(z,x)[0]\n",
    "display(b_1)\n",
    "print(b_1)"
   ]
  }
 ],
 "metadata": {
  "kernelspec": {
   "display_name": "Python 3",
   "language": "python",
   "name": "python3"
  },
  "language_info": {
   "codemirror_mode": {
    "name": "ipython",
    "version": 3
   },
   "file_extension": ".py",
   "mimetype": "text/x-python",
   "name": "python",
   "nbconvert_exporter": "python",
   "pygments_lexer": "ipython3",
   "version": "3.11.6"
  }
 },
 "nbformat": 4,
 "nbformat_minor": 2
}
