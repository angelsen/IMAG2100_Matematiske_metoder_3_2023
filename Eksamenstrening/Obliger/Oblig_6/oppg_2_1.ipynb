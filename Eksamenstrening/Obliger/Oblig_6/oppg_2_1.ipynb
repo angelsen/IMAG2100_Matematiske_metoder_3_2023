{
 "cells": [
  {
   "cell_type": "code",
   "execution_count": 5,
   "metadata": {},
   "outputs": [
    {
     "data": {
      "text/latex": [
       "$\\displaystyle \\sqrt{\\left|{x}\\right|^{2} + \\left|{y}\\right|^{2} + 1}$"
      ],
      "text/plain": [
       "sqrt(Abs(x)**2 + Abs(y)**2 + 1)"
      ]
     },
     "metadata": {},
     "output_type": "display_data"
    },
    {
     "name": "stdout",
     "output_type": "stream",
     "text": [
      "sqrt(Abs(x)**2 + Abs(y)**2 + 1)\n"
     ]
    },
    {
     "data": {
      "text/plain": [
       "[0]"
      ]
     },
     "metadata": {},
     "output_type": "display_data"
    }
   ],
   "source": [
    "import sympy as sp\n",
    "\n",
    "\n",
    "x, y = sp.symbols('x y')\n",
    "\n",
    "z = x*y\n",
    "\n",
    "T_x = sp.Matrix([\n",
    "    1, 0, z.diff(x)\n",
    "])\n",
    "\n",
    "T_y = sp.Matrix([\n",
    "    0, 1, z.diff(y)\n",
    "])\n",
    "\n",
    "f = T_x.cross(T_y).norm()\n",
    "display(f)\n",
    "print(f)\n",
    "\n",
    "b_1 = sp.solve(z,x)[0]\n",
    "display([b_1])"
   ]
  },
  {
   "cell_type": "code",
   "execution_count": 13,
   "metadata": {},
   "outputs": [
    {
     "name": "stdout",
     "output_type": "stream",
     "text": [
      "6 - 2*x/3\n"
     ]
    }
   ],
   "source": [
    "p_1, p_2 = [0,6], [9,0]\n",
    "y_linje = sp.Rational(p_2[1]-p_1[1],p_2[0]-p_1[0])*(x-p_1[0])+p_1[1]\n",
    "\n",
    "print(y_linje)"
   ]
  }
 ],
 "metadata": {
  "kernelspec": {
   "display_name": "Python 3",
   "language": "python",
   "name": "python3"
  },
  "language_info": {
   "codemirror_mode": {
    "name": "ipython",
    "version": 3
   },
   "file_extension": ".py",
   "mimetype": "text/x-python",
   "name": "python",
   "nbconvert_exporter": "python",
   "pygments_lexer": "ipython3",
   "version": "3.11.6"
  }
 },
 "nbformat": 4,
 "nbformat_minor": 2
}
