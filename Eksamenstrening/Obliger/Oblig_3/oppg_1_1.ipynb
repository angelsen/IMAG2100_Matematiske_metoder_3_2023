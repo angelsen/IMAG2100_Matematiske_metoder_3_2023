{
 "cells": [
  {
   "cell_type": "code",
   "execution_count": 1,
   "metadata": {},
   "outputs": [],
   "source": [
    "import sympy as sp"
   ]
  },
  {
   "cell_type": "code",
   "execution_count": 13,
   "metadata": {},
   "outputs": [
    {
     "data": {
      "text/latex": [
       "$\\displaystyle \\left[\\begin{matrix}- \\frac{3 \\sqrt{10}}{10}\\\\\\frac{\\sqrt{10}}{10}\\\\0\\end{matrix}\\right]$"
      ],
      "text/plain": [
       "Matrix([\n",
       "[-3*sqrt(10)/10],\n",
       "[   sqrt(10)/10],\n",
       "[             0]])"
      ]
     },
     "metadata": {},
     "output_type": "display_data"
    },
    {
     "name": "stdout",
     "output_type": "stream",
     "text": [
      "Matrix([[-3*sqrt(10)/10], [sqrt(10)/10], [0]])\n"
     ]
    }
   ],
   "source": [
    "dr_dt = sp.Matrix([[-3], [1], [0]])\n",
    "\n",
    "T_hat = dr_dt.normalized()\n",
    "\n",
    "display(T_hat)\n",
    "print(T_hat)"
   ]
  },
  {
   "cell_type": "code",
   "execution_count": 14,
   "metadata": {},
   "outputs": [
    {
     "data": {
      "text/latex": [
       "$\\displaystyle \\left[\\begin{matrix}- \\frac{2}{7}\\\\- \\frac{6}{7}\\\\- \\frac{3}{7}\\end{matrix}\\right]$"
      ],
      "text/plain": [
       "Matrix([\n",
       "[-2/7],\n",
       "[-6/7],\n",
       "[-3/7]])"
      ]
     },
     "metadata": {},
     "output_type": "display_data"
    },
    {
     "name": "stdout",
     "output_type": "stream",
     "text": [
      "Matrix([[-2/7], [-6/7], [-3/7]])\n"
     ]
    }
   ],
   "source": [
    "dr_dtt = sp.Matrix([[0], [1], [-2]])\n",
    "dr_dttt = sp.Matrix([[0], [1], [0]])\n",
    "\n",
    "B_hat = dr_dt.cross(dr_dtt).normalized()\n",
    "display(B_hat)\n",
    "print(B_hat)"
   ]
  },
  {
   "cell_type": "code",
   "execution_count": 17,
   "metadata": {},
   "outputs": [
    {
     "data": {
      "text/latex": [
       "$\\displaystyle \\left[\\begin{matrix}\\frac{3 \\sqrt{10}}{70}\\\\\\frac{9 \\sqrt{10}}{70}\\\\- \\frac{2 \\sqrt{10}}{7}\\end{matrix}\\right]$"
      ],
      "text/plain": [
       "Matrix([\n",
       "[3*sqrt(10)/70],\n",
       "[9*sqrt(10)/70],\n",
       "[-2*sqrt(10)/7]])"
      ]
     },
     "metadata": {},
     "output_type": "display_data"
    },
    {
     "name": "stdout",
     "output_type": "stream",
     "text": [
      "3*sqrt(10)/70\n",
      "9*sqrt(10)/70\n",
      "-2*sqrt(10)/7\n"
     ]
    }
   ],
   "source": [
    "N_hat = B_hat.cross(T_hat)\n",
    "display(N_hat)\n",
    "for value in N_hat:\n",
    "    print(value)"
   ]
  },
  {
   "cell_type": "code",
   "execution_count": 19,
   "metadata": {},
   "outputs": [
    {
     "name": "stdout",
     "output_type": "stream",
     "text": [
      "7*sqrt(10)/100\n"
     ]
    }
   ],
   "source": [
    "krum = dr_dt.cross(dr_dtt).norm()/dr_dt.norm()**3\n",
    "\n",
    "print(krum)"
   ]
  },
  {
   "cell_type": "code",
   "execution_count": 20,
   "metadata": {},
   "outputs": [
    {
     "name": "stdout",
     "output_type": "stream",
     "text": [
      "-6/49\n"
     ]
    }
   ],
   "source": [
    "tors = dr_dt.cross(dr_dtt).dot(dr_dttt)/dr_dt.cross(dr_dtt).norm()**2\n",
    "\n",
    "print(tors)"
   ]
  }
 ],
 "metadata": {
  "kernelspec": {
   "display_name": "Python 3",
   "language": "python",
   "name": "python3"
  },
  "language_info": {
   "codemirror_mode": {
    "name": "ipython",
    "version": 3
   },
   "file_extension": ".py",
   "mimetype": "text/x-python",
   "name": "python",
   "nbconvert_exporter": "python",
   "pygments_lexer": "ipython3",
   "version": "3.11.6"
  }
 },
 "nbformat": 4,
 "nbformat_minor": 2
}
