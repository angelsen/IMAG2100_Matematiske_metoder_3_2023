{
 "cells": [
  {
   "cell_type": "code",
   "execution_count": 13,
   "metadata": {},
   "outputs": [
    {
     "data": {
      "text/latex": [
       "$\\displaystyle r \\left(2 r \\cos{\\left(\\theta \\right)} + 35\\right)$"
      ],
      "text/plain": [
       "r*(2*r*cos(theta) + 35)"
      ]
     },
     "metadata": {},
     "output_type": "display_data"
    },
    {
     "name": "stdout",
     "output_type": "stream",
     "text": [
      "r*(2*r*cos(theta) + 35)\n"
     ]
    }
   ],
   "source": [
    "import sympy as sp\n",
    "\n",
    "r, t = sp.symbols('r theta')\n",
    "\n",
    "x = r*sp.cos(t)\n",
    "y = r*sp.sin(t)\n",
    "z = 2*x + 35\n",
    "\n",
    "f_rt = z*r\n",
    "display(f_rt)\n",
    "print(f_rt)"
   ]
  },
  {
   "cell_type": "code",
   "execution_count": 6,
   "metadata": {},
   "outputs": [
    {
     "data": {
      "text/latex": [
       "$\\displaystyle 7$"
      ],
      "text/plain": [
       "7"
      ]
     },
     "execution_count": 6,
     "metadata": {},
     "output_type": "execute_result"
    }
   ],
   "source": [
    "sp.sqrt(49)"
   ]
  }
 ],
 "metadata": {
  "kernelspec": {
   "display_name": "Python 3",
   "language": "python",
   "name": "python3"
  },
  "language_info": {
   "codemirror_mode": {
    "name": "ipython",
    "version": 3
   },
   "file_extension": ".py",
   "mimetype": "text/x-python",
   "name": "python",
   "nbconvert_exporter": "python",
   "pygments_lexer": "ipython3",
   "version": "3.11.6"
  }
 },
 "nbformat": 4,
 "nbformat_minor": 2
}
