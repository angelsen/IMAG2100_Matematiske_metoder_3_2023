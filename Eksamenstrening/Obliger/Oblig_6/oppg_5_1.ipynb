{
 "cells": [
  {
   "cell_type": "code",
   "execution_count": 9,
   "metadata": {},
   "outputs": [
    {
     "data": {
      "text/latex": [
       "$\\displaystyle \\left[\\begin{matrix}12 \\cos{\\left(\\theta \\right)}\\\\12 \\sin{\\left(\\theta \\right)}\\\\0\\end{matrix}\\right]$"
      ],
      "text/plain": [
       "Matrix([\n",
       "[12*cos(theta)],\n",
       "[12*sin(theta)],\n",
       "[            0]])"
      ]
     },
     "metadata": {},
     "output_type": "display_data"
    },
    {
     "name": "stdout",
     "output_type": "stream",
     "text": [
      "[cos(theta),sin(theta),0]\n"
     ]
    }
   ],
   "source": [
    "import sympy as sp\n",
    "\n",
    "r = 6\n",
    "t, x, y, z= sp.symbols('theta x y z')\n",
    "\n",
    "#x = r*sp.cos(t)\n",
    "#y = r*sp.sin(t)\n",
    "\n",
    "S_3 = x**2 + y**2 - r**2\n",
    "\n",
    "divF = sp.Matrix([\n",
    "    S_3.diff(x),\n",
    "    S_3.diff(y),\n",
    "    S_3.diff(z)\n",
    "])\n",
    "\n",
    "divF_polar = divF.subs({\n",
    "    x: r*sp.cos(t),\n",
    "    y: r*sp.sin(t)\n",
    "})\n",
    "\n",
    "display(divF_polar)\n",
    "\n",
    "n_hat_3 = divF_polar/(2*r)\n",
    "\n",
    "print(f'[{n_hat[0]},{n_hat[1]},{n_hat[2]}]')"
   ]
  }
 ],
 "metadata": {
  "kernelspec": {
   "display_name": "Python 3",
   "language": "python",
   "name": "python3"
  },
  "language_info": {
   "codemirror_mode": {
    "name": "ipython",
    "version": 3
   },
   "file_extension": ".py",
   "mimetype": "text/x-python",
   "name": "python",
   "nbconvert_exporter": "python",
   "pygments_lexer": "ipython3",
   "version": "3.11.6"
  }
 },
 "nbformat": 4,
 "nbformat_minor": 2
}
