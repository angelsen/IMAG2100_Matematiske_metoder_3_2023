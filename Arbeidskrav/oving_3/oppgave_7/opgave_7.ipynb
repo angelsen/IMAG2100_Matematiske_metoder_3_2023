{
 "cells": [
  {
   "cell_type": "markdown",
   "metadata": {},
   "source": [
    "I et landskap måler vi høyde over havet med funksjonen $z=h(x, y)$. I punktet $(5,-4)$ så er høyden målt til 300. I tilegg så har vi målt stigningstall i x-retning (øst) til å være $-\\frac{1}{10}$ og stigningstall i y-retning (nord) til å være $-\\frac{1}{5}$. Du kan tenke at $x$ og $y$-koordinatene beskriver et punkt på et topografisk kart over landskapet, og at $h(x, y)$ er høyde over havet for punktet $(x, y)$."
   ]
  },
  {
   "cell_type": "markdown",
   "metadata": {},
   "source": [
    "1.  Finn retning i $x y$-planet hvor høyden øker mest (dvs. retningen med høyest stigningstall) når vi beveger oss bort fra punktet $(5,-4)$ på kartet. Merk! Med \"retning\" så mener vi her en enhetsvektor.\n",
    "    \n",
    "    $x$-koordinat til retning:\n",
    "    \n",
    "    $y$-koordinat til retning:"
   ]
  },
  {
   "cell_type": "code",
   "execution_count": 80,
   "metadata": {},
   "outputs": [
    {
     "name": "stdout",
     "output_type": "stream",
     "text": [
      "Matrix([[-sqrt(5)/5], [-2*sqrt(5)/5]])\n"
     ]
    }
   ],
   "source": [
    "import sympy as sp\n",
    "\n",
    "h_x = -sp.Rational(1,10)\n",
    "\n",
    "h_z = -sp.Rational(1, 5)\n",
    "\n",
    "gradient_vektor = sp.Matrix((h_x, h_z))\n",
    "\n",
    "retningsvektor = gradient_vektor.normalized()\n",
    "\n",
    "print(retningsvektor)"
   ]
  },
  {
   "cell_type": "markdown",
   "metadata": {},
   "source": [
    "2.  Finn retning i $x y$-planet hvor høyden minker mest (dvs. retningen med lavest stigningstall) når vi beveger oss bort fra punktet $(5,-4)$ på kartet.\n",
    "\n",
    "    $x$-koordinat til retning:\n",
    "\n",
    "    $y$-koordinat til retning:"
   ]
  },
  {
   "cell_type": "code",
   "execution_count": 60,
   "metadata": {},
   "outputs": [
    {
     "name": "stdout",
     "output_type": "stream",
     "text": [
      "sqrt(5)/5 2*sqrt(5)/5\n"
     ]
    }
   ],
   "source": [
    "print(*retningsvektor*-1)"
   ]
  },
  {
   "cell_type": "markdown",
   "metadata": {},
   "source": [
    "3.  Hva er stigningstallet hvis vi beveger oss sørøst bort fra punktet $(5,-4)$ på kartet? Dvs. hva er retningsderiverte i denne retningen? \n",
    "    \n",
    "    stigningstall:\n",
    "\n",
    "    Hva er stigningstallet hvis vi beveger oss nordvest bort fra punktet $(5,-4)$ på kartet? Dvs. hva er retningsderiverte i denne retningen? \n",
    "    \n",
    "    stigningstall:"
   ]
  },
  {
   "cell_type": "code",
   "execution_count": 61,
   "metadata": {},
   "outputs": [
    {
     "name": "stdout",
     "output_type": "stream",
     "text": [
      "sqrt(2)/20\n",
      "-sqrt(2)/20\n"
     ]
    }
   ],
   "source": [
    "sør_øst = sp.Matrix((1, -1))\n",
    "\n",
    "print(gradient_vektor.dot(sør_øst.normalized()))\n",
    "\n",
    "nord_vest = sp.Matrix((-1, 1))\n",
    "\n",
    "print(gradient_vektor.dot(nord_vest.normalized()))"
   ]
  },
  {
   "cell_type": "markdown",
   "metadata": {},
   "source": [
    "4.  Grafen til funksjonen $z=h(x, y)$ har et tangentplan i punktet $(5,-4,300)$. Hva er likningen til dette tangentplanet?\n",
    "\n",
    "    Skriv inn hele likningen, inkludert likhetstegn. F.eks. hvis likningen er $2 \\cdot x+3 \\cdot y+4 \\cdot z=3$ så skriver du \"2* $x+3^{\\star} y+4^{\\star} z=3^{\\prime \\prime}$ (uten hermetegn) Svar:"
   ]
  },
  {
   "cell_type": "code",
   "execution_count": 62,
   "metadata": {},
   "outputs": [
    {
     "name": "stdout",
     "output_type": "stream",
     "text": [
      "Eq(z - 300, -x/10 - y/5 - 3/10)\n"
     ]
    }
   ],
   "source": [
    "# Likning for et tangent plan:\n",
    "# z - f(a, b) = f_x(a, b)(x - a) + f_y(a, b)(y - b)\n",
    "\n",
    "import sympy as sp\n",
    "\n",
    "fab = 300\n",
    "f_x_ab = -sp.Rational(1, 10)\n",
    "f_y_ab = -sp.Rational(1, 5)\n",
    "\n",
    "a = 5\n",
    "b = -4\n",
    "\n",
    "x, y, z = sp.symbols('x y z')\n",
    "\n",
    "lh = z - fab\n",
    "rh = f_x_ab*(x - a) + f_y_ab*(y - b)\n",
    "\n",
    "eq_4 = sp.Eq(lh, rh, evaluate=True)\n",
    "\n",
    "print(eq_4)"
   ]
  },
  {
   "cell_type": "markdown",
   "metadata": {},
   "source": [
    "5.  Nivåkurven i $x y$-planet gitt ved likningen $h(x, y)=300$ har en tangentlinje gjennom punktet $(5,-4)$. Hva er likning til denne tangentlinjen? Skriv inn hele likningen, inkludert likhetstegn. F.eks. hvis likningen er $2 \\cdot x+3 \\cdot y=3$ så skriver du \"2* $\\mathrm{x}+3^{\\star} \\mathrm{y}=3^{\\text {\" }}$ (uten hermetegn)\n",
    "\n",
    "    Svar:\n",
    "\n",
    "    Hva er stigningstallet hvis vi beveger oss bort fra punktet i $(x, y)$ langs tangentlinjen i forrige spørsmål?\n",
    "\n",
    "    Svar:"
   ]
  },
  {
   "cell_type": "code",
   "execution_count": 132,
   "metadata": {},
   "outputs": [
    {
     "data": {
      "text/latex": [
       "$\\displaystyle - \\frac{i}{10} - \\frac{j}{5}$"
      ],
      "text/plain": [
       "-i/10 - j/5"
      ]
     },
     "execution_count": 132,
     "metadata": {},
     "output_type": "execute_result"
    }
   ],
   "source": [
    "i, j = sp.symbols('i j')\n",
    "\n",
    "tangentvektor = sp.Matrix((i, j))\n",
    "\n",
    "tangent = gradient_vektor.dot(tangentvektor)\n",
    "\n",
    "tangent"
   ]
  },
  {
   "cell_type": "code",
   "execution_count": 147,
   "metadata": {},
   "outputs": [
    {
     "data": {
      "text/latex": [
       "$\\displaystyle - \\frac{i}{10} - \\frac{j}{5} = \\frac{3}{10}$"
      ],
      "text/plain": [
       "Eq(-i/10 - j/5, 3/10)"
      ]
     },
     "execution_count": 147,
     "metadata": {},
     "output_type": "execute_result"
    }
   ],
   "source": [
    "tangentlinje = sp.Eq(tangent, tangent.subs({i: 5, j: -4}))\n",
    "\n",
    "tangentlinje"
   ]
  },
  {
   "cell_type": "code",
   "execution_count": 148,
   "metadata": {},
   "outputs": [
    {
     "data": {
      "text/latex": [
       "$\\displaystyle \\left[\\begin{matrix}\\frac{2 \\sqrt{5}}{5}\\\\\\frac{\\sqrt{5}}{5}\\end{matrix}\\right]$"
      ],
      "text/plain": [
       "Matrix([\n",
       "[2*sqrt(5)/5],\n",
       "[  sqrt(5)/5]])"
      ]
     },
     "execution_count": 148,
     "metadata": {},
     "output_type": "execute_result"
    }
   ],
   "source": [
    "i_eq = 1\n",
    "j_eq = sp.solve(tangent, j)[0].subs(i, i_eq)\n",
    "\n",
    "tangent_retnigs_vektor = sp.Matrix((2, 1)).normalized()\n",
    "\n",
    "tangent_retnigs_vektor"
   ]
  },
  {
   "cell_type": "code",
   "execution_count": 149,
   "metadata": {},
   "outputs": [
    {
     "data": {
      "text/latex": [
       "$\\displaystyle - \\frac{2 \\sqrt{5}}{25}$"
      ],
      "text/plain": [
       "-2*sqrt(5)/25"
      ]
     },
     "execution_count": 149,
     "metadata": {},
     "output_type": "execute_result"
    }
   ],
   "source": [
    "#tangent_retnings_vektor = sp.Matrix((tangent.solve(x), tangent.solve(y))).normalized()\n",
    "\n",
    "tangent_stigning = gradient_vektor.dot(tangent_retnigs_vektor)\n",
    "\n",
    "tangent_stigning"
   ]
  },
  {
   "cell_type": "code",
   "execution_count": 150,
   "metadata": {},
   "outputs": [
    {
     "name": "stdout",
     "output_type": "stream",
     "text": [
      "-2*sqrt(5)/25\n"
     ]
    }
   ],
   "source": [
    "print(tangent_stigning)"
   ]
  }
 ],
 "metadata": {
  "kernelspec": {
   "display_name": "Python 3",
   "language": "python",
   "name": "python3"
  },
  "language_info": {
   "codemirror_mode": {
    "name": "ipython",
    "version": 3
   },
   "file_extension": ".py",
   "mimetype": "text/x-python",
   "name": "python",
   "nbconvert_exporter": "python",
   "pygments_lexer": "ipython3",
   "version": "3.11.5"
  },
  "orig_nbformat": 4
 },
 "nbformat": 4,
 "nbformat_minor": 2
}
