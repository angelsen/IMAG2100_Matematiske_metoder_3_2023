{
 "cells": [
  {
   "cell_type": "code",
   "execution_count": 2,
   "metadata": {},
   "outputs": [],
   "source": [
    "import sympy as sp"
   ]
  },
  {
   "cell_type": "markdown",
   "metadata": {},
   "source": [
    "Svar skal skrives symbolsk i denne oppgaven. Skriv \"sqrt(x)\" for $\\sqrt{x}$.\n",
    "Et punkt er gitt i polarkoordinater med verdier $r=6$ og $\\theta=\\frac{2 \\cdot \\pi}{3}$. Hva er punktet i kartetiske koordinater?\n",
    "$$\n",
    "\\begin{aligned}\n",
    "& x= \\\\\n",
    "& y=\n",
    "\\end{aligned}\n",
    "$$"
   ]
  },
  {
   "cell_type": "code",
   "execution_count": 4,
   "metadata": {},
   "outputs": [
    {
     "name": "stdout",
     "output_type": "stream",
     "text": [
      "-3\n",
      "3*sqrt(3)\n"
     ]
    }
   ],
   "source": [
    "def x(r, theta):\n",
    "    return r*sp.cos(theta)\n",
    "\n",
    "def y(r, theta):\n",
    "    return r*sp.sin(theta)\n",
    "\n",
    "r = 6\n",
    "theta = 2*sp.pi/3\n",
    "\n",
    "print(x(r,theta))\n",
    "print(y(r,theta))"
   ]
  }
 ],
 "metadata": {
  "kernelspec": {
   "display_name": "Python 3",
   "language": "python",
   "name": "python3"
  },
  "language_info": {
   "codemirror_mode": {
    "name": "ipython",
    "version": 3
   },
   "file_extension": ".py",
   "mimetype": "text/x-python",
   "name": "python",
   "nbconvert_exporter": "python",
   "pygments_lexer": "ipython3",
   "version": "3.11.6"
  }
 },
 "nbformat": 4,
 "nbformat_minor": 2
}
