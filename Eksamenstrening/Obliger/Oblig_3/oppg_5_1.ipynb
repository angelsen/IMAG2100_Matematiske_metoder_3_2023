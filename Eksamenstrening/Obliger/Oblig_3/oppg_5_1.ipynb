{
 "cells": [
  {
   "cell_type": "code",
   "execution_count": 8,
   "metadata": {},
   "outputs": [
    {
     "data": {
      "text/latex": [
       "$\\displaystyle \\frac{\\partial^{4}}{\\partial y^{2}\\partial x^{2}} \\frac{x y}{x^{2} + y^{2}}$"
      ],
      "text/plain": [
       "Derivative(x*y/(x**2 + y**2), (x, 2), (y, 2))"
      ]
     },
     "metadata": {},
     "output_type": "display_data"
    },
    {
     "name": "stdout",
     "output_type": "stream",
     "text": [
      "24*x*y*(8*x**2*y**2/(x**2 + y**2)**2 - 6*x**2/(x**2 + y**2) + 2*y**2*(4*x**2/(x**2 + y**2) - 1)/(x**2 + y**2) - 4*y**2/(x**2 + y**2) + 3)/(x**2 + y**2)**3\n"
     ]
    }
   ],
   "source": [
    "import sympy as sp\n",
    "\n",
    "x, y = sp.symbols('x y')\n",
    "\n",
    "g = x*y/(y**2+x**2)\n",
    "\n",
    "svar = sp.Derivative(g, (x, 2), (y, 2))\n",
    "\n",
    "display(svar)\n",
    "print(svar.simplify().doit())"
   ]
  }
 ],
 "metadata": {
  "kernelspec": {
   "display_name": "Python 3",
   "language": "python",
   "name": "python3"
  },
  "language_info": {
   "codemirror_mode": {
    "name": "ipython",
    "version": 3
   },
   "file_extension": ".py",
   "mimetype": "text/x-python",
   "name": "python",
   "nbconvert_exporter": "python",
   "pygments_lexer": "ipython3",
   "version": "3.11.6"
  }
 },
 "nbformat": 4,
 "nbformat_minor": 2
}
