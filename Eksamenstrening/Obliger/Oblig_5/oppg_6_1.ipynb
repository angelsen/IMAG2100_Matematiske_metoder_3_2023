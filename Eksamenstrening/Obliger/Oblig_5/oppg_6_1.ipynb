{
 "cells": [
  {
   "cell_type": "code",
   "execution_count": 45,
   "metadata": {},
   "outputs": [
    {
     "data": {
      "text/latex": [
       "$\\displaystyle - 9 \\sqrt{2} \\pi + 18 \\pi$"
      ],
      "text/plain": [
       "-9*sqrt(2)*pi + 18*pi"
      ]
     },
     "metadata": {},
     "output_type": "display_data"
    },
    {
     "name": "stdout",
     "output_type": "stream",
     "text": [
      "-9*sqrt(2)*pi + 18*pi\n"
     ]
    }
   ],
   "source": [
    "%reset -f\n",
    "import sympy as sp\n",
    "\n",
    "rho, theta, phi = sp.symbols('rho theta phi')\n",
    "\n",
    "J = rho**2*sp.sin(phi)\n",
    "\n",
    "m = sp.integrate(J, (rho, 0, 3), (theta, 0, 2*sp.pi), (phi, 0, sp.pi/4))\n",
    "\n",
    "display(m)\n",
    "print(m)"
   ]
  },
  {
   "cell_type": "code",
   "execution_count": 47,
   "metadata": {},
   "outputs": [
    {
     "data": {
      "text/latex": [
       "$\\displaystyle \\frac{81 \\pi}{8 \\left(- 9 \\sqrt{2} \\pi + 18 \\pi\\right)}$"
      ],
      "text/plain": [
       "81*pi/(8*(-9*sqrt(2)*pi + 18*pi))"
      ]
     },
     "metadata": {},
     "output_type": "display_data"
    },
    {
     "name": "stdout",
     "output_type": "stream",
     "text": [
      "81*pi/(8*(-9*sqrt(2)*pi + 18*pi))\n"
     ]
    }
   ],
   "source": [
    "z = rho * sp.cos(phi)\n",
    "\n",
    "z_bar = sp.integrate(z * J, (rho, 0, 3), (theta, 0, 2*sp.pi), (phi, 0, sp.pi/4)) / m\n",
    "display(z_bar)\n",
    "print(z_bar)"
   ]
  }
 ],
 "metadata": {
  "kernelspec": {
   "display_name": "Python 3",
   "language": "python",
   "name": "python3"
  },
  "language_info": {
   "codemirror_mode": {
    "name": "ipython",
    "version": 3
   },
   "file_extension": ".py",
   "mimetype": "text/x-python",
   "name": "python",
   "nbconvert_exporter": "python",
   "pygments_lexer": "ipython3",
   "version": "3.11.6"
  }
 },
 "nbformat": 4,
 "nbformat_minor": 2
}
