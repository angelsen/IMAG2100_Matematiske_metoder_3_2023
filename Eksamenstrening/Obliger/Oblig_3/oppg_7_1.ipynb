{
 "cells": [
  {
   "cell_type": "code",
   "execution_count": 45,
   "metadata": {},
   "outputs": [
    {
     "name": "stdout",
     "output_type": "stream",
     "text": [
      "Matrix([[-sqrt(2)/2], [-sqrt(2)/2], [0]])\n"
     ]
    }
   ],
   "source": [
    "import sympy as sp\n",
    "\n",
    "x_0, y_0, z_0 = 8, -4, 100\n",
    "\n",
    "dz_dx, dz_dy = -sp.Rational(1,10), -sp.Rational(1,10)\n",
    "\n",
    "nabla_H = sp.Matrix([[dz_dx], [dz_dy], [0]]) # Divergens\n",
    "\n",
    "r_nabla_F = nabla_H.normalized()\n",
    "\n",
    "print(r_nabla_F)"
   ]
  },
  {
   "cell_type": "code",
   "execution_count": 46,
   "metadata": {},
   "outputs": [
    {
     "name": "stdout",
     "output_type": "stream",
     "text": [
      "Matrix([[sqrt(2)/2], [sqrt(2)/2], [0]])\n"
     ]
    }
   ],
   "source": [
    "print(-r_nabla_F)"
   ]
  },
  {
   "cell_type": "code",
   "execution_count": 47,
   "metadata": {},
   "outputs": [
    {
     "name": "stdout",
     "output_type": "stream",
     "text": [
      "0\n"
     ]
    }
   ],
   "source": [
    "sør_øst = sp.Matrix([[1], [-1], [0]])\n",
    "\n",
    "stigning_sør_øst = sør_øst.dot(nabla_H)\n",
    "\n",
    "print(stigning_sør_øst)"
   ]
  },
  {
   "cell_type": "code",
   "execution_count": 53,
   "metadata": {},
   "outputs": [
    {
     "data": {
      "text/latex": [
       "$\\displaystyle z - 100 = - \\frac{x}{10} - \\frac{y}{10} + \\frac{2}{5}$"
      ],
      "text/plain": [
       "Eq(z - 100, -x/10 - y/10 + 2/5)"
      ]
     },
     "metadata": {},
     "output_type": "display_data"
    },
    {
     "name": "stdout",
     "output_type": "stream",
     "text": [
      "Eq(z - 100, -x/10 - y/10 + 2/5)\n"
     ]
    }
   ],
   "source": [
    "x, y, z = sp.symbols('x y z')\n",
    "\n",
    "r = sp.Matrix([[x - x_0], [y - y_0], [0]])\n",
    "\n",
    "plan = sp.Eq(z-z_0, nabla_H.dot(r))\n",
    "display(plan)\n",
    "print(plan)"
   ]
  },
  {
   "cell_type": "code",
   "execution_count": null,
   "metadata": {},
   "outputs": [],
   "source": []
  }
 ],
 "metadata": {
  "kernelspec": {
   "display_name": "Python 3",
   "language": "python",
   "name": "python3"
  },
  "language_info": {
   "codemirror_mode": {
    "name": "ipython",
    "version": 3
   },
   "file_extension": ".py",
   "mimetype": "text/x-python",
   "name": "python",
   "nbconvert_exporter": "python",
   "pygments_lexer": "ipython3",
   "version": "3.11.6"
  }
 },
 "nbformat": 4,
 "nbformat_minor": 2
}
