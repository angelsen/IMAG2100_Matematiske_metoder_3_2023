{
 "cells": [
  {
   "cell_type": "code",
   "execution_count": 6,
   "metadata": {},
   "outputs": [
    {
     "data": {
      "text/latex": [
       "$\\displaystyle \\frac{4 \\left(- x^{2} + y^{2}\\right)}{\\left(x^{2} + y^{2}\\right)^{\\frac{3}{2}}}$"
      ],
      "text/plain": [
       "4*(-x**2 + y**2)/(x**2 + y**2)**(3/2)"
      ]
     },
     "metadata": {},
     "output_type": "display_data"
    },
    {
     "name": "stdout",
     "output_type": "stream",
     "text": [
      "4*(-x**2 + y**2)/(x**2 + y**2)**(3/2)\n"
     ]
    }
   ],
   "source": [
    "import sympy as sp\n",
    "\n",
    "x, y = sp.symbols('x y')\n",
    "\n",
    "F = 1/sp.sqrt(x**2+y**2)*sp.Matrix([\n",
    "    4*x,\n",
    "    -4*y,\n",
    "    0\n",
    "])\n",
    "\n",
    "divF = F[0].diff(x)+F[1].diff(y)\n",
    "\n",
    "display(divF.simplify())\n",
    "print(divF.simplify())"
   ]
  },
  {
   "cell_type": "code",
   "execution_count": 7,
   "metadata": {},
   "outputs": [
    {
     "data": {
      "text/latex": [
       "$\\displaystyle \\frac{8 x y}{\\left(x^{2} + y^{2}\\right)^{\\frac{3}{2}}}$"
      ],
      "text/plain": [
       "8*x*y/(x**2 + y**2)**(3/2)"
      ]
     },
     "metadata": {},
     "output_type": "display_data"
    },
    {
     "name": "stdout",
     "output_type": "stream",
     "text": [
      "8*x*y/(x**2 + y**2)**(3/2)\n"
     ]
    }
   ],
   "source": [
    "curlF = F[1].diff(x) - F[0].diff(y)\n",
    "display(curlF)\n",
    "print(curlF)"
   ]
  }
 ],
 "metadata": {
  "kernelspec": {
   "display_name": "Python 3",
   "language": "python",
   "name": "python3"
  },
  "language_info": {
   "codemirror_mode": {
    "name": "ipython",
    "version": 3
   },
   "file_extension": ".py",
   "mimetype": "text/x-python",
   "name": "python",
   "nbconvert_exporter": "python",
   "pygments_lexer": "ipython3",
   "version": "3.11.6"
  }
 },
 "nbformat": 4,
 "nbformat_minor": 2
}
