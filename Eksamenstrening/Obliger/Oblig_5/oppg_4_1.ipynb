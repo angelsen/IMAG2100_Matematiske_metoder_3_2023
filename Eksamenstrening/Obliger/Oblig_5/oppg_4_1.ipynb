{
 "cells": [
  {
   "cell_type": "code",
   "execution_count": 10,
   "metadata": {},
   "outputs": [
    {
     "data": {
      "text/latex": [
       "$\\displaystyle \\frac{\\pi a^{3}}{2}$"
      ],
      "text/plain": [
       "pi*a**3/2"
      ]
     },
     "metadata": {},
     "output_type": "display_data"
    },
    {
     "name": "stdout",
     "output_type": "stream",
     "text": [
      "pi*a**3/2\n"
     ]
    }
   ],
   "source": [
    "%reset -f\n",
    "import sympy as sp\n",
    "\n",
    "r, theta, z, a = sp.symbols('r theta z a')\n",
    "\n",
    "j = r\n",
    "\n",
    "svar = sp.integrate(j, (r, 0, a),(theta, 0, sp.pi/2), (z, -a, a))\n",
    "\n",
    "display(svar)\n",
    "print(svar)"
   ]
  },
  {
   "cell_type": "code",
   "execution_count": 12,
   "metadata": {},
   "outputs": [
    {
     "data": {
      "text/latex": [
       "$\\displaystyle 4 \\pi^{2}$"
      ],
      "text/plain": [
       "4*pi**2"
      ]
     },
     "metadata": {},
     "output_type": "display_data"
    },
    {
     "name": "stdout",
     "output_type": "stream",
     "text": [
      "4*pi**2\n"
     ]
    }
   ],
   "source": [
    "%reset -f\n",
    "import sympy as sp\n",
    "\n",
    "rho, theta, phi = sp.symbols('rho theta phi')\n",
    "\n",
    "svar = sp.integrate(1, (rho, 1, 3), (theta, 0, 2*sp.pi), (phi, 0, sp.pi))\n",
    "display(svar)\n",
    "print(svar)"
   ]
  },
  {
   "cell_type": "code",
   "execution_count": 13,
   "metadata": {},
   "outputs": [
    {
     "data": {
      "text/latex": [
       "$\\displaystyle \\frac{104 \\pi}{3}$"
      ],
      "text/plain": [
       "104*pi/3"
      ]
     },
     "metadata": {},
     "output_type": "display_data"
    },
    {
     "name": "stdout",
     "output_type": "stream",
     "text": [
      "104*pi/3\n"
     ]
    }
   ],
   "source": [
    "%reset -f\n",
    "import sympy as sp\n",
    "\n",
    "rho, theta, phi = sp.symbols('rho theta phi')\n",
    "\n",
    "svar = sp.integrate(rho**2*sp.sin(phi), (rho, 1, 3), (theta, 0, 2*sp.pi), (phi, 0, sp.pi))\n",
    "display(svar)\n",
    "print(svar)\n"
   ]
  }
 ],
 "metadata": {
  "kernelspec": {
   "display_name": "Python 3",
   "language": "python",
   "name": "python3"
  },
  "language_info": {
   "codemirror_mode": {
    "name": "ipython",
    "version": 3
   },
   "file_extension": ".py",
   "mimetype": "text/x-python",
   "name": "python",
   "nbconvert_exporter": "python",
   "pygments_lexer": "ipython3",
   "version": "3.11.6"
  }
 },
 "nbformat": 4,
 "nbformat_minor": 2
}
