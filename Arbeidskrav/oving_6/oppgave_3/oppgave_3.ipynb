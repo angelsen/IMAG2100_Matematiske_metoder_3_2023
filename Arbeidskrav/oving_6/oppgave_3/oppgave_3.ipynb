{
 "cells": [
  {
   "cell_type": "markdown",
   "metadata": {},
   "source": [
    "I planet har vi et vektorfelt gitt ved\n",
    "\n",
    "$$\n",
    "\\mathbf{F}=\\left(\\begin{array}{c}\n",
    "13 x \\\\\n",
    "8 x+y^{2}\n",
    "\\end{array}\\right)\n",
    "$$\n",
    "\n",
    "Vi har en sirkel $\\mathcal{C}$, med radius 7 og sentrum i origo. Kurven $\\mathcal{C}$ har en parametrisering $\\mathbf{r}(\\mathbf{t})$ orientert mot klokka.\n",
    "\n",
    "Regn ut arbeidsintegralet/sirkulasjonen\n",
    "\n",
    "$$\n",
    "\\int_{\\mathcal{C}} \\mathbf{F} \\cdot d \\mathbf{r}\n",
    "$$"
   ]
  },
  {
   "cell_type": "code",
   "execution_count": 46,
   "metadata": {},
   "outputs": [],
   "source": [
    "import sympy as sp"
   ]
  },
  {
   "cell_type": "code",
   "execution_count": 95,
   "metadata": {},
   "outputs": [],
   "source": [
    "def F(x, y):\n",
    "    return sp.Matrix([[13*x, 8*x + y**2]])\n",
    "\n",
    "def r(t):\n",
    "    return sp.Matrix([[7*sp.cos(t), 7*sp.sin(t)]])"
   ]
  },
  {
   "cell_type": "code",
   "execution_count": 96,
   "metadata": {},
   "outputs": [
    {
     "data": {
      "text/latex": [
       "$\\displaystyle \\left[\\begin{matrix}- 7 \\sin{\\left(t \\right)} & 7 \\cos{\\left(t \\right)}\\end{matrix}\\right]$"
      ],
      "text/plain": [
       "Matrix([[-7*sin(t), 7*cos(t)]])"
      ]
     },
     "execution_count": 96,
     "metadata": {},
     "output_type": "execute_result"
    }
   ],
   "source": [
    "t = sp.symbols('t')\n",
    "\n",
    "\n",
    "dr = sp.diff(r(t))\n",
    "dr"
   ]
  },
  {
   "cell_type": "code",
   "execution_count": 103,
   "metadata": {},
   "outputs": [
    {
     "data": {
      "text/latex": [
       "$\\displaystyle \\left[\\begin{matrix}91 \\cos{\\left(t \\right)} & 49 \\sin^{2}{\\left(t \\right)} + 56 \\cos{\\left(t \\right)}\\end{matrix}\\right]$"
      ],
      "text/plain": [
       "Matrix([[91*cos(t), 49*sin(t)**2 + 56*cos(t)]])"
      ]
     },
     "execution_count": 103,
     "metadata": {},
     "output_type": "execute_result"
    }
   ],
   "source": [
    "x = 7*sp.cos(t)\n",
    "y = 7*sp.sin(t)\n",
    "\n",
    "F_t = F(x,y)\n",
    "F_t"
   ]
  },
  {
   "cell_type": "code",
   "execution_count": 104,
   "metadata": {},
   "outputs": [
    {
     "name": "stdout",
     "output_type": "stream",
     "text": [
      "392*pi\n"
     ]
    }
   ],
   "source": [
    "print(sp.integrate(F_t.dot(dr), (t, 0, 2*sp.pi)))"
   ]
  }
 ],
 "metadata": {
  "kernelspec": {
   "display_name": "Python 3",
   "language": "python",
   "name": "python3"
  },
  "language_info": {
   "codemirror_mode": {
    "name": "ipython",
    "version": 3
   },
   "file_extension": ".py",
   "mimetype": "text/x-python",
   "name": "python",
   "nbconvert_exporter": "python",
   "pygments_lexer": "ipython3",
   "version": "3.11.5"
  }
 },
 "nbformat": 4,
 "nbformat_minor": 2
}
