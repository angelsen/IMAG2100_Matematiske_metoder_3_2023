{
 "cells": [
  {
   "cell_type": "code",
   "execution_count": 9,
   "metadata": {},
   "outputs": [
    {
     "data": {
      "text/latex": [
       "$\\displaystyle \\sqrt{36 t^{4} + 100 t^{2}}$"
      ],
      "text/plain": [
       "sqrt(36*t**4 + 100*t**2)"
      ]
     },
     "metadata": {},
     "output_type": "display_data"
    },
    {
     "name": "stdout",
     "output_type": "stream",
     "text": [
      "sqrt(36*t**4 + 100*t**2)\n"
     ]
    }
   ],
   "source": [
    "import sympy as sp\n",
    "\n",
    "t = sp.symbols('t')\n",
    "\n",
    "x = 5*t**2 + 5\n",
    "y = 5 - 2*t**3\n",
    "\n",
    "x_dt = sp.diff(x, t)\n",
    "y_dt = sp.diff(y, t)\n",
    "\n",
    "f_t = sp.sqrt(x_dt**2+y_dt**2)\n",
    "\n",
    "display(f_t)\n",
    "print(f_t)"
   ]
  },
  {
   "cell_type": "code",
   "execution_count": 10,
   "metadata": {},
   "outputs": [
    {
     "data": {
      "text/latex": [
       "$\\displaystyle - \\frac{250}{27} + \\frac{68 \\sqrt{34}}{27}$"
      ],
      "text/plain": [
       "-250/27 + 68*sqrt(34)/27"
      ]
     },
     "metadata": {},
     "output_type": "display_data"
    },
    {
     "name": "stdout",
     "output_type": "stream",
     "text": [
      "-250/27 + 68*sqrt(34)/27\n"
     ]
    }
   ],
   "source": [
    "buelengde = sp.integrate(f_t, (t, 0, 1))\n",
    "\n",
    "display(buelengde)\n",
    "print(buelengde.doit())"
   ]
  }
 ],
 "metadata": {
  "kernelspec": {
   "display_name": "Python 3",
   "language": "python",
   "name": "python3"
  },
  "language_info": {
   "codemirror_mode": {
    "name": "ipython",
    "version": 3
   },
   "file_extension": ".py",
   "mimetype": "text/x-python",
   "name": "python",
   "nbconvert_exporter": "python",
   "pygments_lexer": "ipython3",
   "version": "3.11.6"
  }
 },
 "nbformat": 4,
 "nbformat_minor": 2
}
